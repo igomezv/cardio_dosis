{
 "cells": [
  {
   "cell_type": "code",
   "execution_count": 1,
   "metadata": {},
   "outputs": [],
   "source": [
    "import pandas as pd\n",
    "from sklearn.cluster import KMeans\n",
    "import numpy as np\n",
    "import matplotlib.pylab as plt\n",
    "\n",
    "%matplotlib notebook"
   ]
  },
  {
   "cell_type": "markdown",
   "metadata": {},
   "source": [
    "## Cargar csv"
   ]
  },
  {
   "cell_type": "code",
   "execution_count": 2,
   "metadata": {},
   "outputs": [],
   "source": [
    "file = \"../cardio_dosis_data/CARDIOLOGIA DF_H.csv\""
   ]
  },
  {
   "cell_type": "code",
   "execution_count": 3,
   "metadata": {},
   "outputs": [
    {
     "data": {
      "text/html": [
       "<div>\n",
       "<style scoped>\n",
       "    .dataframe tbody tr th:only-of-type {\n",
       "        vertical-align: middle;\n",
       "    }\n",
       "\n",
       "    .dataframe tbody tr th {\n",
       "        vertical-align: top;\n",
       "    }\n",
       "\n",
       "    .dataframe thead th {\n",
       "        text-align: right;\n",
       "    }\n",
       "</style>\n",
       "<table border=\"1\" class=\"dataframe\">\n",
       "  <thead>\n",
       "    <tr style=\"text-align: right;\">\n",
       "      <th></th>\n",
       "      <th>TIEMPO</th>\n",
       "      <th>mGy</th>\n",
       "      <th>IMÁGENES</th>\n",
       "      <th>CUADROS POR SEGUNDO</th>\n",
       "      <th>CONTRASTE</th>\n",
       "    </tr>\n",
       "  </thead>\n",
       "  <tbody>\n",
       "    <tr>\n",
       "      <th>0</th>\n",
       "      <td>3.25</td>\n",
       "      <td>85.0</td>\n",
       "      <td>3</td>\n",
       "      <td>7.5</td>\n",
       "      <td>0</td>\n",
       "    </tr>\n",
       "    <tr>\n",
       "      <th>1</th>\n",
       "      <td>7.60</td>\n",
       "      <td>1301.0</td>\n",
       "      <td>18</td>\n",
       "      <td>7.5</td>\n",
       "      <td>120</td>\n",
       "    </tr>\n",
       "    <tr>\n",
       "      <th>2</th>\n",
       "      <td>10.04</td>\n",
       "      <td>128.0</td>\n",
       "      <td>5</td>\n",
       "      <td>7.5</td>\n",
       "      <td>0</td>\n",
       "    </tr>\n",
       "    <tr>\n",
       "      <th>3</th>\n",
       "      <td>30.60</td>\n",
       "      <td>1906.0</td>\n",
       "      <td>13</td>\n",
       "      <td>7.5</td>\n",
       "      <td>230</td>\n",
       "    </tr>\n",
       "    <tr>\n",
       "      <th>4</th>\n",
       "      <td>2.45</td>\n",
       "      <td>206.0</td>\n",
       "      <td>11</td>\n",
       "      <td>7.5</td>\n",
       "      <td>100</td>\n",
       "    </tr>\n",
       "  </tbody>\n",
       "</table>\n",
       "</div>"
      ],
      "text/plain": [
       "   TIEMPO     mGy  IMÁGENES  CUADROS POR SEGUNDO  CONTRASTE\n",
       "0    3.25    85.0         3                  7.5          0\n",
       "1    7.60  1301.0        18                  7.5        120\n",
       "2   10.04   128.0         5                  7.5          0\n",
       "3   30.60  1906.0        13                  7.5        230\n",
       "4    2.45   206.0        11                  7.5        100"
      ]
     },
     "execution_count": 3,
     "metadata": {},
     "output_type": "execute_result"
    }
   ],
   "source": [
    "#data = pd.read_csv(file, usecols={'EDAD','PESO', 'GENERO','TALLA', 'TIEMPO','mGy','pGym','IMÁGENES','CUADROS POR SEGUNDO','PULSOS POR SEGUNDO', 'CONTRASTE'})\n",
    "#df = pd.read_csv(file, \n",
    "#                   usecols={'EDAD','PESO', 'TALLA',\n",
    "#                            'TIEMPO','mGy','pGym', 'IMÁGENES'})\n",
    "df = pd.read_csv(file, \n",
    "                 usecols={'TIEMPO','mGy', \n",
    "                                  'IMÁGENES', 'CUADROS POR SEGUNDO', 'CONTRASTE'})\n",
    "df.head()"
   ]
  },
  {
   "cell_type": "markdown",
   "metadata": {},
   "source": [
    "### Probando si hay valores nulos:"
   ]
  },
  {
   "cell_type": "code",
   "execution_count": 4,
   "metadata": {},
   "outputs": [
    {
     "data": {
      "text/plain": [
       "TIEMPO                 False\n",
       "mGy                    False\n",
       "IMÁGENES               False\n",
       "CUADROS POR SEGUNDO    False\n",
       "CONTRASTE              False\n",
       "dtype: bool"
      ]
     },
     "execution_count": 4,
     "metadata": {},
     "output_type": "execute_result"
    }
   ],
   "source": [
    "type(df)\n",
    "df.isin(['NaN']).any()"
   ]
  },
  {
   "cell_type": "code",
   "execution_count": 5,
   "metadata": {},
   "outputs": [
    {
     "data": {
      "text/plain": [
       "593"
      ]
     },
     "execution_count": 5,
     "metadata": {},
     "output_type": "execute_result"
    }
   ],
   "source": [
    "df_val = df.values\n",
    "len(df_val)"
   ]
  },
  {
   "cell_type": "code",
   "execution_count": 6,
   "metadata": {},
   "outputs": [
    {
     "data": {
      "image/png": "[encoded data removed]",
      "text/plain": [
       "<Figure size 432x288 with 1 Axes>"
      ]
     },
     "metadata": {
      "needs_background": "light"
     },
     "output_type": "display_data"
    }
   ],
   "source": [
    "Error =[]\n",
    "for i in range(1, 11):\n",
    "    kmeans = KMeans(n_clusters = i).fit(df_val)\n",
    "    kmeans.fit(df_val)\n",
    "    Error.append(kmeans.inertia_)\n",
    "\n",
    "plt.plot(range(1, 11), Error)\n",
    "plt.title('Elbow method')\n",
    "plt.xlabel('No of clusters')\n",
    "plt.ylabel('Error')\n",
    "plt.show()"
   ]
  },
  {
   "cell_type": "code",
   "execution_count": 12,
   "metadata": {},
   "outputs": [
    {
     "name": "stdout",
     "output_type": "stream",
     "text": [
      "[1 2 1 0 1 1 1 1 1 2 2 1 2 2 2 2 1 1 1 1 2 0 0 2 2 0 1 2 0 2 1 1 3 0 1 2 0\n",
      " 2 1 1 2 1 1 3 1 0 0 1 1 2 2 1 2 1 1 1 1 2 1 1 2 1 1 1 2 0 2 2 2 1 2 1 1 0\n",
      " 2 1 1 1 1 1 1 1 1 0 0 1 2 1 1 2 1 1 1 1 1 1 1 2 1 1 1 2 1 0 2 1 1 0 1 1 1\n",
      " 1 1 1 1 1 3 0 1 2 2 1 2 1 2 1 3 1 3 1 1 2 1 1 2 0 0 1 1 2 1 0 1 1 1 1 1 1\n",
      " 1 1 2 2 2 1 1 1 0 1 1 0 1 1 0 0 2 1 1 2 0 1 2 1 1 1 0 0 2 1 2 2 0 0 1 1 2\n",
      " 2 1 2 1 1 1 1 1 0 1 1 1 3 1 2 1 2 0 1 1 1 1 3 0 1 2 2 1 2 1 1 3 1 1 2 2 0\n",
      " 1 1 0 2 1 1 1 2 2 2 1 2 1 0 2 0 1 1 1 2 2 1 1 1 1 1 1 1 1 1 1 1 1 2 2 1 2\n",
      " 1 1 1 1 2 2 2 2 2 1 0 2 1 1 1 2 2 2 2 2 1 2 1 1 1 2 0 1 1 1 1 1 1 1 0 1 2\n",
      " 1 1 1 2 3 0 1 1 2 1 1 2 1 1 2 1 1 0 1 2 1 1 2 2 1 1 1 1 1 0 1 1 1 1 0 1 1\n",
      " 0 1 1 1 1 2 1 1 1 1 1 0 2 1 1 1 1 1 1 2 1 2 1 2 1 2 2 1 1 1 2 1 0 1 1 2 1\n",
      " 0 0 1 1 1 1 0 2 1 1 1 1 1 3 1 1 1 2 1 1 3 1 1 1 1 0 1 1 1 2 1 1 1 2 1 2 1\n",
      " 2 1 2 1 1 2 1 2 2 0 1 1 2 0 1 0 2 1 1 1 2 1 1 1 1 2 1 2 2 1 2 1 1 1 1 1 2\n",
      " 1 1 1 0 0 2 0 1 1 0 1 0 2 3 0 1 1 1 1 2 1 1 1 1 1 0 3 2 1 2 0 2 2 2 1 0 1\n",
      " 1 1 1 1 2 1 1 2 2 1 0 1 0 0 1 1 1 1 1 1 2 1 1 2 1 1 1 1 1 2 2 1 2 1 1 1 2\n",
      " 1 2 1 1 1 1 0 1 2 3 1 0 1 1 2 1 1 2 1 1 2 1 1 1 1 1 3 1 1 1 2 1 2 2 1 1 1\n",
      " 2 2 1 1 1 1 1 1 2 1 1 0 2 2 1 1 1 1 2 2 1 2 1 2 0 1 2 1 0 2 2 2 1 0 1 2 1\n",
      " 1]\n"
     ]
    },
    {
     "data": {
      "text/plain": [
       "array([[  21.36614286, 2155.48571429,   27.74285714,    7.66428571,\n",
       "         179.07142857],\n",
       "       [   5.6217847 ,  280.19376771,    9.79320113,    7.53541076,\n",
       "          48.11331445],\n",
       "       [  11.88006452, 1063.33419355,   19.9483871 ,    7.74516129,\n",
       "         120.61935484],\n",
       "       [  31.03866667, 3693.2       ,   38.66666667,    7.5       ,\n",
       "         260.46666667]])"
      ]
     },
     "execution_count": 12,
     "metadata": {},
     "output_type": "execute_result"
    }
   ],
   "source": [
    "k_clusters = 4\n",
    "\n",
    "kmeans = KMeans(n_clusters = k_clusters)\n",
    "y_kmeans = kmeans.fit_predict(df_val)\n",
    "print(y_kmeans)\n",
    "\n",
    "kmeans.cluster_centers_\n"
   ]
  },
  {
   "cell_type": "code",
   "execution_count": 8,
   "metadata": {},
   "outputs": [
    {
     "name": "stdout",
     "output_type": "stream",
     "text": [
      "['TIEMPO', 'mGy', 'IMÁGENES', 'CUADROS POR SEGUNDO', 'CONTRASTE']\n",
      "Centro del centroide No 1 es: \n",
      " [  5.6217847  280.19376771   9.79320113   7.53541076  48.11331445] \n",
      "\n",
      "Centro del centroide No 2 es: \n",
      " [  21.36614286 2155.48571429   27.74285714    7.66428571  179.07142857] \n",
      "\n",
      "Centro del centroide No 3 es: \n",
      " [  11.88006452 1063.33419355   19.9483871     7.74516129  120.61935484] \n",
      "\n",
      "Centro del centroide No 4 es: \n",
      " [  31.03866667 3693.2          38.66666667    7.5         260.46666667] \n",
      "\n"
     ]
    }
   ],
   "source": [
    "lista = list(df)\n",
    "centroidestxt = open('centroides.txt', 'w')\n",
    "print(lista)\n",
    "centroidestxt.write(str(lista))\n",
    "centroidestxt.write(\"\\n\")\n",
    "for i, item in enumerate(kmeans.cluster_centers_):\n",
    "    print(\"Centro del centroide No {} es: \\n {} \\n\".format(i+1, item))\n",
    "    centroidestxt.write(\"Centro del centroide No {} es: \\n {} \\n\".format(i+1, item))\n",
    "\n",
    "centroidestxt.close()"
   ]
  },
  {
   "cell_type": "code",
   "execution_count": 26,
   "metadata": {},
   "outputs": [
    {
     "name": "stdout",
     "output_type": "stream",
     "text": [
      "Elementos en cluster 1 : 70\n",
      "Elementos en cluster 2 : 353\n",
      "Elementos en cluster 3 : 155\n",
      "Elementos en cluster 4 : 15\n"
     ]
    }
   ],
   "source": [
    "cluster_map = pd.DataFrame()\n",
    "cluster_map['data_index'] = df.index.values\n",
    "cluster_map['cluster'] = kmeans.labels_\n",
    "\n",
    "clusterlist = []\n",
    "\n",
    "for i in range(k_clusters):\n",
    "    clusterlist.append(cluster_map[cluster_map.cluster == i])\n",
    "    print(\"Elementos en cluster {} : {}\".format(i+1, len(clusterlist[i])))\n",
    "    index_elements = clusterlist[i]['data_index']\n",
    "    clusterlist[i]['data_index'].to_csv('indices_cluster_'+str(i+1)+'.txt', \n",
    "                                  header=True, index=None, sep='\\n')\n",
    "#cluster1 = cluster_map[cluster_map.cluster == 0]\n",
    "#cluster2 = cluster_map[cluster_map.cluster == 1]\n",
    "#cluster3 = cluster_map[cluster_map.cluster == 2]\n",
    "#cluster4 = cluster_map[cluster_map.cluster == 3]\n"
   ]
  },
  {
   "cell_type": "code",
   "execution_count": 21,
   "metadata": {},
   "outputs": [
    {
     "data": {
      "text/plain": [
       "3        3\n",
       "21      21\n",
       "22      22\n",
       "25      25\n",
       "28      28\n",
       "      ... \n",
       "529    529\n",
       "566    566\n",
       "579    579\n",
       "583    583\n",
       "588    588\n",
       "Name: data_index, Length: 70, dtype: int64"
      ]
     },
     "execution_count": 21,
     "metadata": {},
     "output_type": "execute_result"
    }
   ],
   "source": [
    "clusterlist[0]['data_index']"
   ]
  },
  {
   "cell_type": "code",
   "execution_count": 22,
   "metadata": {},
   "outputs": [
    {
     "data": {
      "text/plain": [
       "0        0\n",
       "2        2\n",
       "4        4\n",
       "5        5\n",
       "6        6\n",
       "      ... \n",
       "582    582\n",
       "587    587\n",
       "589    589\n",
       "591    591\n",
       "592    592\n",
       "Name: data_index, Length: 353, dtype: int64"
      ]
     },
     "execution_count": 22,
     "metadata": {},
     "output_type": "execute_result"
    }
   ],
   "source": [
    "clusterlist[1]['data_index']"
   ]
  },
  {
   "cell_type": "code",
   "execution_count": 23,
   "metadata": {},
   "outputs": [
    {
     "data": {
      "text/plain": [
       "1        1\n",
       "9        9\n",
       "10      10\n",
       "12      12\n",
       "13      13\n",
       "      ... \n",
       "581    581\n",
       "584    584\n",
       "585    585\n",
       "586    586\n",
       "590    590\n",
       "Name: data_index, Length: 155, dtype: int64"
      ]
     },
     "execution_count": 23,
     "metadata": {},
     "output_type": "execute_result"
    }
   ],
   "source": [
    "clusterlist[2]['data_index']"
   ]
  },
  {
   "cell_type": "code",
   "execution_count": 24,
   "metadata": {},
   "outputs": [
    {
     "data": {
      "text/plain": [
       "32      32\n",
       "43      43\n",
       "116    116\n",
       "126    126\n",
       "128    128\n",
       "197    197\n",
       "207    207\n",
       "216    216\n",
       "300    300\n",
       "383    383\n",
       "390    390\n",
       "457    457\n",
       "470    470\n",
       "527    527\n",
       "544    544\n",
       "Name: data_index, dtype: int64"
      ]
     },
     "execution_count": 24,
     "metadata": {},
     "output_type": "execute_result"
    }
   ],
   "source": [
    "clusterlist[3]['data_index']"
   ]
  },
  {
   "cell_type": "code",
   "execution_count": null,
   "metadata": {},
   "outputs": [],
   "source": []
  }
 ],
 "metadata": {
  "kernelspec": {
   "display_name": "Python 3",
   "language": "python",
   "name": "python3"
  },
  "language_info": {
   "codemirror_mode": {
    "name": "ipython",
    "version": 3
   },
   "file_extension": ".py",
   "mimetype": "text/x-python",
   "name": "python",
   "nbconvert_exporter": "python",
   "pygments_lexer": "ipython3",
   "version": "3.6.9"
  }
 },
 "nbformat": 4,
 "nbformat_minor": 2
}
