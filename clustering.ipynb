{
 "cells": [
  {
   "cell_type": "code",
   "execution_count": 1,
   "metadata": {},
   "outputs": [],
   "source": [
    "import pandas as pd\n",
    "from sklearn.cluster import KMeans\n",
    "import numpy as np\n",
    "import matplotlib.pylab as plt\n",
    "%matplotlib notebook"
   ]
  },
  {
   "cell_type": "markdown",
   "metadata": {},
   "source": [
    "## Seleccionar atributos numéricos"
   ]
  },
  {
   "cell_type": "code",
   "execution_count": 2,
   "metadata": {},
   "outputs": [],
   "source": [
    "file = \"/home/cosmocicatais/Documents/Teodoro_dosis/CARDIOLOGIA DF_H.csv\"\n",
    "#data = pd.read_csv(file, usecols={'EDAD','PESO', 'GENERO','TALLA', 'TIEMPO','mGy','pGym','IMÁGENES','CUADROS POR SEGUNDO','PULSOS POR SEGUNDO', 'CONTRASTE'})\n",
    "data = pd.read_csv(file, usecols={'EDAD','PESO', 'TALLA', 'TIEMPO','mGy','pGym', 'IMÁGENES'})"
   ]
  },
  {
   "cell_type": "code",
   "execution_count": 3,
   "metadata": {},
   "outputs": [
    {
     "data": {
      "text/html": [
       "<div>\n",
       "<style scoped>\n",
       "    .dataframe tbody tr th:only-of-type {\n",
       "        vertical-align: middle;\n",
       "    }\n",
       "\n",
       "    .dataframe tbody tr th {\n",
       "        vertical-align: top;\n",
       "    }\n",
       "\n",
       "    .dataframe thead th {\n",
       "        text-align: right;\n",
       "    }\n",
       "</style>\n",
       "<table border=\"1\" class=\"dataframe\">\n",
       "  <thead>\n",
       "    <tr style=\"text-align: right;\">\n",
       "      <th></th>\n",
       "      <th>EDAD</th>\n",
       "      <th>PESO</th>\n",
       "      <th>TALLA</th>\n",
       "      <th>TIEMPO</th>\n",
       "      <th>mGy</th>\n",
       "      <th>pGym</th>\n",
       "      <th>IMÁGENES</th>\n",
       "    </tr>\n",
       "  </thead>\n",
       "  <tbody>\n",
       "    <tr>\n",
       "      <th>0</th>\n",
       "      <td>75</td>\n",
       "      <td>72.0</td>\n",
       "      <td>1.60</td>\n",
       "      <td>3.25</td>\n",
       "      <td>85.0</td>\n",
       "      <td>4209.9</td>\n",
       "      <td>3</td>\n",
       "    </tr>\n",
       "    <tr>\n",
       "      <th>1</th>\n",
       "      <td>49</td>\n",
       "      <td>78.0</td>\n",
       "      <td>1.68</td>\n",
       "      <td>7.60</td>\n",
       "      <td>1301.0</td>\n",
       "      <td>8858.6</td>\n",
       "      <td>18</td>\n",
       "    </tr>\n",
       "    <tr>\n",
       "      <th>2</th>\n",
       "      <td>78</td>\n",
       "      <td>60.0</td>\n",
       "      <td>1.58</td>\n",
       "      <td>10.04</td>\n",
       "      <td>128.0</td>\n",
       "      <td>6979.5</td>\n",
       "      <td>5</td>\n",
       "    </tr>\n",
       "    <tr>\n",
       "      <th>3</th>\n",
       "      <td>48</td>\n",
       "      <td>115.0</td>\n",
       "      <td>1.70</td>\n",
       "      <td>30.60</td>\n",
       "      <td>1906.0</td>\n",
       "      <td>22416.8</td>\n",
       "      <td>13</td>\n",
       "    </tr>\n",
       "    <tr>\n",
       "      <th>4</th>\n",
       "      <td>81</td>\n",
       "      <td>80.0</td>\n",
       "      <td>1.76</td>\n",
       "      <td>2.45</td>\n",
       "      <td>206.0</td>\n",
       "      <td>1026.5</td>\n",
       "      <td>11</td>\n",
       "    </tr>\n",
       "  </tbody>\n",
       "</table>\n",
       "</div>"
      ],
      "text/plain": [
       "   EDAD   PESO  TALLA  TIEMPO     mGy     pGym  IMÁGENES\n",
       "0    75   72.0   1.60    3.25    85.0   4209.9         3\n",
       "1    49   78.0   1.68    7.60  1301.0   8858.6        18\n",
       "2    78   60.0   1.58   10.04   128.0   6979.5         5\n",
       "3    48  115.0   1.70   30.60  1906.0  22416.8        13\n",
       "4    81   80.0   1.76    2.45   206.0   1026.5        11"
      ]
     },
     "execution_count": 3,
     "metadata": {},
     "output_type": "execute_result"
    }
   ],
   "source": [
    "data.head()"
   ]
  },
  {
   "cell_type": "code",
   "execution_count": 4,
   "metadata": {},
   "outputs": [
    {
     "data": {
      "text/plain": [
       "EDAD        False\n",
       "PESO        False\n",
       "TALLA       False\n",
       "TIEMPO      False\n",
       "mGy         False\n",
       "pGym        False\n",
       "IMÁGENES    False\n",
       "dtype: bool"
      ]
     },
     "execution_count": 4,
     "metadata": {},
     "output_type": "execute_result"
    }
   ],
   "source": [
    "type(data)\n",
    "data.isin(['NaN']).any()"
   ]
  },
  {
   "cell_type": "code",
   "execution_count": 5,
   "metadata": {},
   "outputs": [
    {
     "data": {
      "text/plain": [
       "593"
      ]
     },
     "execution_count": 5,
     "metadata": {},
     "output_type": "execute_result"
    }
   ],
   "source": [
    "nparray = data.values\n",
    "len(nparray)"
   ]
  },
  {
   "cell_type": "code",
   "execution_count": 44,
   "metadata": {},
   "outputs": [
    {
     "data": {
      "text/plain": [
       "<matplotlib.collections.PathCollection at 0x7f414ff085f8>"
      ]
     },
     "execution_count": 44,
     "metadata": {},
     "output_type": "execute_result"
    },
    {
     "data": {
      "image/png": "[encoded data removed]",
      "text/plain": [
       "<Figure size 432x288 with 1 Axes>"
      ]
     },
     "metadata": {},
     "output_type": "display_data"
    }
   ],
   "source": [
    "pesoCD = pd.read_csv(file, usecols={'EDAD','PESO', 'TALLA', 'TIEMPO','mGy','pGym', 'IMÁGENES'})\n",
    "pesoscd_val = pesoCD.values\n",
    "plt.scatter(pesoscd_val[:,0],pesoscd_val[:,1])"
   ]
  },
  {
   "cell_type": "code",
   "execution_count": 48,
   "metadata": {},
   "outputs": [
    {
     "data": {
      "text/plain": [
       "Text(336.9714285714286, 0.5, 'EDAD')"
      ]
     },
     "execution_count": 48,
     "metadata": {},
     "output_type": "execute_result"
    },
    {
     "data": {
      "image/png": "[encoded data removed]",
      "text/plain": [
       "<Figure size 432x432 with 3 Axes>"
      ]
     },
     "metadata": {},
     "output_type": "display_data"
    }
   ],
   "source": [
    "import seaborn as sns\n",
    "sns.jointplot(pesoscd_val[:,4],pesoscd_val[:,0], kind=\"kde\", space=0, color=\"r\", cbar=False)\n",
    "plt.xlabel(\"CD\")\n",
    "plt.ylabel(\"EDAD\")"
   ]
  },
  {
   "cell_type": "code",
   "execution_count": 49,
   "metadata": {},
   "outputs": [
    {
     "data": {
      "text/plain": [
       "Text(336.9714285714286, 0.5, 'PESO')"
      ]
     },
     "execution_count": 49,
     "metadata": {},
     "output_type": "execute_result"
    },
    {
     "data": {
      "image/png": "[encoded data removed]",
      "text/plain": [
       "<Figure size 432x432 with 3 Axes>"
      ]
     },
     "metadata": {},
     "output_type": "display_data"
    }
   ],
   "source": [
    "sns.jointplot(pesoscd_val[:,4],pesoscd_val[:,1], kind=\"kde\", space=0, color=\"g\", cbar=False)\n",
    "plt.xlabel(\"CD\")\n",
    "plt.ylabel(\"PESO\")"
   ]
  },
  {
   "cell_type": "code",
   "execution_count": 57,
   "metadata": {},
   "outputs": [
    {
     "data": {
      "text/plain": [
       "Text(336.9714285714286, 0.5, 'TALLA')"
      ]
     },
     "execution_count": 57,
     "metadata": {},
     "output_type": "execute_result"
    },
    {
     "data": {
      "image/png": "[encoded data removed]",
      "text/plain": [
       "<Figure size 432x432 with 3 Axes>"
      ]
     },
     "metadata": {},
     "output_type": "display_data"
    }
   ],
   "source": [
    "sns.jointplot(pesoscd_val[:,4],pesoscd_val[:,2], kind=\"kde\", space=0, color=\"b\", cbar=False)\n",
    "plt.xlabel(\"CD\")\n",
    "plt.ylabel(\"TALLA\")"
   ]
  },
  {
   "cell_type": "code",
   "execution_count": 58,
   "metadata": {},
   "outputs": [
    {
     "data": {
      "text/plain": [
       "Text(336.9714285714286, 0.5, 'TIEMPO')"
      ]
     },
     "execution_count": 58,
     "metadata": {},
     "output_type": "execute_result"
    },
    {
     "data": {
      "image/png": "[encoded data removed]",
      "text/plain": [
       "<Figure size 432x432 with 3 Axes>"
      ]
     },
     "metadata": {},
     "output_type": "display_data"
    }
   ],
   "source": [
    "sns.jointplot(pesoscd_val[:,4],pesoscd_val[:,3], kind=\"kde\", space=0, color=\"y\", cbar=False)\n",
    "plt.xlabel(\"CD\")\n",
    "plt.ylabel(\"TIEMPO\")"
   ]
  },
  {
   "cell_type": "code",
   "execution_count": 59,
   "metadata": {},
   "outputs": [
    {
     "data": {
      "text/plain": [
       "Text(336.9714285714286, 0.5, 'PDA')"
      ]
     },
     "execution_count": 59,
     "metadata": {},
     "output_type": "execute_result"
    },
    {
     "data": {
      "image/png": "[encoded data removed]",
      "text/plain": [
       "<Figure size 432x432 with 3 Axes>"
      ]
     },
     "metadata": {},
     "output_type": "display_data"
    }
   ],
   "source": [
    "sns.jointplot(pesoscd_val[:,4],pesoscd_val[:,5], kind=\"kde\", space=0, color=\"b\", cbar=False)\n",
    "plt.xlabel(\"CD\")\n",
    "plt.ylabel(\"PDA\")"
   ]
  },
  {
   "cell_type": "code",
   "execution_count": 60,
   "metadata": {},
   "outputs": [
    {
     "data": {
      "text/plain": [
       "Text(336.9714285714286, 0.5, 'IMAGENES')"
      ]
     },
     "execution_count": 60,
     "metadata": {},
     "output_type": "execute_result"
    },
    {
     "data": {
      "image/png": "[encoded data removed]",
      "text/plain": [
       "<Figure size 432x432 with 3 Axes>"
      ]
     },
     "metadata": {},
     "output_type": "display_data"
    }
   ],
   "source": [
    "sns.jointplot(pesoscd_val[:,4],pesoscd_val[:,6], kind=\"kde\", space=0, color=\"k\", cbar=False)\n",
    "plt.xlabel(\"CD\")\n",
    "plt.ylabel(\"IMAGENES\")"
   ]
  },
  {
   "cell_type": "code",
   "execution_count": 24,
   "metadata": {},
   "outputs": [
    {
     "data": {
      "text/plain": [
       "<seaborn.axisgrid.JointGrid at 0x7f41511abb00>"
      ]
     },
     "execution_count": 24,
     "metadata": {},
     "output_type": "execute_result"
    },
    {
     "data": {
      "image/png": "[encoded data removed]",
      "text/plain": [
       "<Figure size 432x432 with 3 Axes>"
      ]
     },
     "metadata": {},
     "output_type": "display_data"
    }
   ],
   "source": [
    "sns.jointplot(pesoscd_val[:,1],pesoscd_val[:,0],data = data, space=0, color=\"r\").plot_joint(sns.kdeplot, zorder=0, n_levels=6)"
   ]
  },
  {
   "cell_type": "code",
   "execution_count": 86,
   "metadata": {},
   "outputs": [
    {
     "data": {
      "image/png": "[encoded data removed]",
      "text/plain": [
       "<Figure size 432x288 with 1 Axes>"
      ]
     },
     "metadata": {},
     "output_type": "display_data"
    }
   ],
   "source": [
    "Error =[]\n",
    "for i in range(1, 11):\n",
    "    kmeans = KMeans(n_clusters = i).fit(nparray)\n",
    "    kmeans.fit(nparray)\n",
    "    Error.append(kmeans.inertia_)\n",
    "\n",
    "plt.plot(range(1, 11), Error)\n",
    "plt.title('Elbow method')\n",
    "plt.xlabel('No of clusters')\n",
    "plt.ylabel('Error')\n",
    "plt.show()"
   ]
  },
  {
   "cell_type": "code",
   "execution_count": 87,
   "metadata": {},
   "outputs": [
    {
     "name": "stdout",
     "output_type": "stream",
     "text": [
      "[0 1 1 2 0 0 0 0 1 1 1 1 1 3 1 1 1 0 0 0 1 3 3 1 1 3 0 1 3 3 0 0 3 3 0 1 3\n",
      " 3 0 1 1 0 0 3 1 3 3 0 0 1 1 0 1 0 0 0 1 1 0 0 0 0 1 0 1 3 1 3 1 1 3 0 0 3\n",
      " 3 0 1 0 1 0 0 0 0 1 3 0 1 0 0 0 1 0 0 0 0 0 0 1 0 0 0 1 0 3 0 0 1 3 0 0 0\n",
      " 0 0 0 0 0 0 1 1 1 1 0 1 0 1 0 2 0 3 0 0 3 0 0 0 3 3 0 0 1 0 3 0 0 0 1 0 0\n",
      " 0 0 1 1 1 0 1 0 3 0 0 3 0 1 3 3 3 0 1 3 3 0 1 0 0 0 3 2 1 0 1 1 3 3 0 1 1\n",
      " 1 0 1 0 0 0 0 0 3 0 0 0 2 0 1 1 1 3 0 0 1 0 2 3 0 1 1 0 2 0 0 3 0 0 1 1 1\n",
      " 0 0 3 1 0 0 0 1 0 0 0 3 0 1 0 3 0 1 0 3 1 0 0 1 0 0 0 0 0 0 0 0 0 1 3 1 1\n",
      " 0 0 0 0 1 1 1 1 1 0 3 1 0 0 0 1 1 1 1 3 0 1 0 0 0 1 3 1 1 0 0 0 0 0 2 0 1\n",
      " 0 0 0 1 3 3 0 0 1 0 0 1 0 1 0 1 3 3 1 3 0 0 1 3 0 0 0 0 0 3 0 0 0 0 3 0 0\n",
      " 3 0 1 0 1 2 0 0 0 0 0 3 0 0 0 1 0 0 0 1 0 3 0 0 0 1 1 0 0 0 1 0 3 0 0 3 0\n",
      " 3 3 0 0 0 0 3 1 0 0 0 0 0 2 0 0 0 0 0 0 2 0 0 0 1 3 0 0 0 3 0 0 1 1 0 0 1\n",
      " 1 1 1 0 0 3 0 1 3 3 0 1 1 1 0 3 1 0 1 3 1 0 0 0 0 3 0 1 3 1 1 0 0 0 0 0 1\n",
      " 0 0 0 1 3 1 3 0 0 3 0 2 1 2 3 0 1 1 0 1 0 0 0 0 1 3 2 1 0 1 3 1 1 3 0 3 0\n",
      " 0 0 0 0 1 0 0 1 0 0 3 1 3 3 0 0 1 0 0 0 1 0 0 1 0 0 0 0 0 1 1 0 1 0 0 0 1\n",
      " 0 0 0 0 0 0 3 0 1 2 0 1 0 0 1 0 0 1 0 0 1 0 0 0 0 0 3 0 0 0 1 1 1 1 0 0 0\n",
      " 1 1 0 0 0 0 0 0 1 0 0 3 1 1 0 0 0 0 1 1 0 0 0 3 1 0 1 0 1 1 3 1 1 2 0 0 0\n",
      " 0]\n"
     ]
    },
    {
     "data": {
      "text/plain": [
       "array([[6.23664596e+01, 6.90015528e+01, 1.75649068e+00, 5.34726708e+00,\n",
       "        3.00029193e+02, 2.13952919e+03, 1.05527950e+01],\n",
       "       [6.08622754e+01, 7.60838323e+01, 1.64844311e+00, 1.11271856e+01,\n",
       "        9.21310180e+02, 6.41398862e+03, 1.80778443e+01],\n",
       "       [5.60666667e+01, 9.03333333e+01, 1.64133333e+00, 2.82013333e+01,\n",
       "        3.01126667e+03, 2.43183133e+04, 3.02666667e+01],\n",
       "       [6.04382022e+01, 8.24044944e+01, 1.66415730e+00, 2.00452809e+01,\n",
       "        1.95921348e+03, 1.29902180e+04, 2.47191011e+01]])"
      ]
     },
     "execution_count": 87,
     "metadata": {},
     "output_type": "execute_result"
    }
   ],
   "source": [
    "kmeans3= KMeans(n_clusters=4)\n",
    "y_kmeans3 = kmeans3.fit_predict(nparray)\n",
    "print(y_kmeans3)\n",
    "\n",
    "kmeans3.cluster_centers_"
   ]
  },
  {
   "cell_type": "code",
   "execution_count": 91,
   "metadata": {},
   "outputs": [
    {
     "name": "stdout",
     "output_type": "stream",
     "text": [
      "   EDAD   PESO  TALLA  TIEMPO     mGy     pGym  IMÁGENES\n",
      "0    75   72.0   1.60    3.25    85.0   4209.9         3\n",
      "1    49   78.0   1.68    7.60  1301.0   8858.6        18\n",
      "2    78   60.0   1.58   10.04   128.0   6979.5         5\n",
      "3    48  115.0   1.70   30.60  1906.0  22416.8        13\n",
      "4    81   80.0   1.76    2.45   206.0   1026.5        11\n",
      "Centro del centroide No 0 es: \n",
      " [6.23664596e+01 6.90015528e+01 1.75649068e+00 5.34726708e+00\n",
      " 3.00029193e+02 2.13952919e+03 1.05527950e+01] \n",
      "\n",
      "Centro del centroide No 1 es: \n",
      " [6.08622754e+01 7.60838323e+01 1.64844311e+00 1.11271856e+01\n",
      " 9.21310180e+02 6.41398862e+03 1.80778443e+01] \n",
      "\n",
      "Centro del centroide No 2 es: \n",
      " [5.60666667e+01 9.03333333e+01 1.64133333e+00 2.82013333e+01\n",
      " 3.01126667e+03 2.43183133e+04 3.02666667e+01] \n",
      "\n",
      "Centro del centroide No 3 es: \n",
      " [6.04382022e+01 8.24044944e+01 1.66415730e+00 2.00452809e+01\n",
      " 1.95921348e+03 1.29902180e+04 2.47191011e+01] \n",
      "\n"
     ]
    }
   ],
   "source": [
    "print(data.head())\n",
    "for i, item in enumerate(kmeans3.cluster_centers_):\n",
    "    print(\"Centro del centroide No {} es: \\n {} \\n\".format(i, item))"
   ]
  },
  {
   "cell_type": "code",
   "execution_count": 89,
   "metadata": {},
   "outputs": [],
   "source": [
    "cluster_map = pd.DataFrame()\n",
    "cluster_map['data_index'] = data.index.values\n",
    "cluster_map['cluster'] = kmeans3.labels_\n",
    "cluster1 = cluster_map[cluster_map.cluster == 0]\n",
    "cluster2 = cluster_map[cluster_map.cluster == 1]\n",
    "cluster3 = cluster_map[cluster_map.cluster == 2]\n",
    "cluster4 = cluster_map[cluster_map.cluster == 3]"
   ]
  },
  {
   "cell_type": "code",
   "execution_count": 90,
   "metadata": {},
   "outputs": [
    {
     "name": "stdout",
     "output_type": "stream",
     "text": [
      "c1 322\n",
      "c2 167\n",
      "c3 15\n",
      "c4 89\n"
     ]
    },
    {
     "data": {
      "text/html": [
       "<div>\n",
       "<style scoped>\n",
       "    .dataframe tbody tr th:only-of-type {\n",
       "        vertical-align: middle;\n",
       "    }\n",
       "\n",
       "    .dataframe tbody tr th {\n",
       "        vertical-align: top;\n",
       "    }\n",
       "\n",
       "    .dataframe thead th {\n",
       "        text-align: right;\n",
       "    }\n",
       "</style>\n",
       "<table border=\"1\" class=\"dataframe\">\n",
       "  <thead>\n",
       "    <tr style=\"text-align: right;\">\n",
       "      <th></th>\n",
       "      <th>data_index</th>\n",
       "      <th>cluster</th>\n",
       "    </tr>\n",
       "  </thead>\n",
       "  <tbody>\n",
       "    <tr>\n",
       "      <th>3</th>\n",
       "      <td>3</td>\n",
       "      <td>2</td>\n",
       "    </tr>\n",
       "    <tr>\n",
       "      <th>126</th>\n",
       "      <td>126</td>\n",
       "      <td>2</td>\n",
       "    </tr>\n",
       "    <tr>\n",
       "      <th>175</th>\n",
       "      <td>175</td>\n",
       "      <td>2</td>\n",
       "    </tr>\n",
       "    <tr>\n",
       "      <th>197</th>\n",
       "      <td>197</td>\n",
       "      <td>2</td>\n",
       "    </tr>\n",
       "    <tr>\n",
       "      <th>207</th>\n",
       "      <td>207</td>\n",
       "      <td>2</td>\n",
       "    </tr>\n",
       "    <tr>\n",
       "      <th>213</th>\n",
       "      <td>213</td>\n",
       "      <td>2</td>\n",
       "    </tr>\n",
       "    <tr>\n",
       "      <th>293</th>\n",
       "      <td>293</td>\n",
       "      <td>2</td>\n",
       "    </tr>\n",
       "    <tr>\n",
       "      <th>338</th>\n",
       "      <td>338</td>\n",
       "      <td>2</td>\n",
       "    </tr>\n",
       "    <tr>\n",
       "      <th>383</th>\n",
       "      <td>383</td>\n",
       "      <td>2</td>\n",
       "    </tr>\n",
       "    <tr>\n",
       "      <th>390</th>\n",
       "      <td>390</td>\n",
       "      <td>2</td>\n",
       "    </tr>\n",
       "    <tr>\n",
       "      <th>455</th>\n",
       "      <td>455</td>\n",
       "      <td>2</td>\n",
       "    </tr>\n",
       "    <tr>\n",
       "      <th>457</th>\n",
       "      <td>457</td>\n",
       "      <td>2</td>\n",
       "    </tr>\n",
       "    <tr>\n",
       "      <th>470</th>\n",
       "      <td>470</td>\n",
       "      <td>2</td>\n",
       "    </tr>\n",
       "    <tr>\n",
       "      <th>527</th>\n",
       "      <td>527</td>\n",
       "      <td>2</td>\n",
       "    </tr>\n",
       "    <tr>\n",
       "      <th>588</th>\n",
       "      <td>588</td>\n",
       "      <td>2</td>\n",
       "    </tr>\n",
       "  </tbody>\n",
       "</table>\n",
       "</div>"
      ],
      "text/plain": [
       "     data_index  cluster\n",
       "3             3        2\n",
       "126         126        2\n",
       "175         175        2\n",
       "197         197        2\n",
       "207         207        2\n",
       "213         213        2\n",
       "293         293        2\n",
       "338         338        2\n",
       "383         383        2\n",
       "390         390        2\n",
       "455         455        2\n",
       "457         457        2\n",
       "470         470        2\n",
       "527         527        2\n",
       "588         588        2"
      ]
     },
     "execution_count": 90,
     "metadata": {},
     "output_type": "execute_result"
    }
   ],
   "source": [
    "print(\"c1 {}\".format(len(cluster1)))\n",
    "print(\"c2 {}\".format(len(cluster2)))\n",
    "print(\"c3 {}\".format(len(cluster3)))\n",
    "print(\"c4 {}\".format(len(cluster4)))\n",
    "cluster3"
   ]
  },
  {
   "cell_type": "code",
   "execution_count": 53,
   "metadata": {},
   "outputs": [
    {
     "name": "stdout",
     "output_type": "stream",
     "text": [
      "0\n",
      "0\n",
      "0\n"
     ]
    }
   ],
   "source": [
    "print(len(cluster2))\n",
    "print(len(cluster3))\n",
    "print(len(cluster4))"
   ]
  },
  {
   "cell_type": "code",
   "execution_count": 56,
   "metadata": {},
   "outputs": [
    {
     "name": "stdout",
     "output_type": "stream",
     "text": [
      "[-1406.77925248   521.47619896     6.97333702]\n",
      "[3364.00339452  -52.03607789   -5.97857261]\n",
      "[1343.00067118  854.81646016   24.52734225]\n",
      "[16878.82841619  1189.61323197   -17.27882189]\n",
      "[-4.54424785e+03 -3.07266863e+01 -3.99426922e+00]\n",
      "[-2787.9234934     98.08449798   -24.04535699]\n",
      "[-4068.80330695    51.63233549   -13.45347735]\n",
      "[-4347.29698365   180.96712735    13.8554818 ]\n",
      "[3.28594947e+03 1.09700271e+03 3.26622774e+00]\n",
      "[-983.45504432 -318.03179916   -6.52059725]\n",
      "[2921.82435783  -79.56771319    3.54010855]\n",
      "[-330.33792409  652.84108667    2.22865529]\n",
      "[-629.03367892   31.44640992    1.57487334]\n",
      "[4800.25576421  148.98041044  -30.61958569]\n",
      "[-460.24750426  -21.09888172    8.59769422]\n",
      "[-529.73767504  -26.49369707   -1.49968065]\n",
      "[-270.82267129  664.08977265    7.97352367]\n",
      "[-3498.34026136    96.41380737     6.77579957]\n",
      "[-3703.95944023    64.2751127     -4.35193248]\n",
      "[-2711.54668931    86.19687366    -6.02890047]\n",
      "[  93.64355784 -223.08222942  -18.12616776]\n",
      "[9943.52059756  234.00729073  -13.71742648]\n",
      "[12089.14978398   -17.28088407    21.34506664]\n",
      "[3729.82319893   83.73632533   10.32731662]\n",
      "[3510.4360821   598.17483297   14.37980392]\n",
      "[8754.95959515  146.74196609  -15.26665984]\n",
      "[-3.19553838e+03 -1.67945438e+02  2.58595730e+00]\n",
      "[890.01377814 145.83444679  -2.011894  ]\n",
      "[11318.24180726  -158.03904799    22.16187847]\n",
      "[12653.21428616   975.87867208   -27.89240841]\n",
      "[-1.73706731e+03 -9.61382588e+01 -9.67783115e-01]\n",
      "[-3116.8446034    324.62745815   -16.51556262]\n",
      "[10394.69284022 -1111.13848341   -40.50295181]\n",
      "[12657.49821436  -158.44585324    26.31828727]\n",
      "[-3031.65547997     8.99919842    11.98826827]\n",
      "[-253.56389904  -15.04420101   13.78116575]\n",
      "[ 1.13783769e+04 -1.27558349e+02  4.74563656e+00]\n",
      "[5.15857278e+03 1.19139887e+02 1.40550362e+00]\n",
      "[-4283.64057468   184.12010293    17.21589586]\n",
      "[2055.75665133  803.28583581   -7.7993936 ]\n",
      "[2473.07549667   25.65714293    8.34091844]\n",
      "[-2.02988618e+03  6.99043452e+00 -9.56425051e-01]\n",
      "[-3476.2318523    117.609365      17.36764801]\n",
      "[10530.29005794 -1850.10592341    10.65955955]\n",
      "[616.21076568 399.09595844 -12.42134015]\n",
      "[6697.87103188 -445.75655131   -9.35228755]\n",
      "[12882.71340383    71.74419668   -31.03958061]\n",
      "[-3107.41790371   104.53082546     3.48699256]\n",
      "[-2483.0863112    310.37155216    11.26531942]\n",
      "[1139.09617789  169.49770201    6.18899854]\n",
      "[ 136.28081464 -513.7096172    -0.91036697]\n",
      "[-1617.91001222   513.14045454   -45.31249842]\n",
      "[ 2.80516790e+03 -2.59408915e+01 -2.72409402e-01]\n",
      "[-1474.16702781    89.46760459   -36.49257696]\n",
      "[-1320.75279375   176.01547918    -3.80765616]\n",
      "[-2579.39221819    80.1441543     -6.41327273]\n",
      "[-1205.85201378   178.53097947     5.51415127]\n",
      "[  -7.33880751 -237.61093731   -1.12109583]\n",
      "[-4673.52708339   140.79343939    -4.68254364]\n",
      "[-4460.65225305    43.33874726    10.61328728]\n",
      "[-1932.04407347  -434.15492048    32.62615377]\n",
      "[-2176.39167499   122.20115228     4.94253759]\n",
      "[-157.04231144  551.58172302  -17.80765343]\n",
      "[-1876.91643882   -44.40965135   -37.90104323]\n",
      "[ 189.32857794 -278.4183051    -4.44417121]\n",
      "[ 6.37348520e+03 -1.65618467e+02  4.12118336e-01]\n",
      "[1402.6341196    95.81062251    4.36344462]\n",
      "[ 4.80071993e+03 -6.54088776e+00  5.50804655e-01]\n",
      "[ 316.13762543 -299.4188183     3.23891654]\n",
      "[514.02485491 304.36667398 -11.69656574]\n",
      "[4492.80150187   30.94908568   -6.01157392]\n",
      "[-4117.89991441   193.63593958    21.55943113]\n",
      "[-2645.47132038    46.85225421   -14.77538895]\n",
      "[4298.57327173 -318.63319163  -16.04306955]\n",
      "[ 7.85579154e+03  7.08812654e+02 -4.75815130e+00]\n",
      "[-3911.98125362    18.60814439    -9.42942097]\n",
      "[-1179.5974006    -13.63410751    -5.55495268]\n",
      "[-5133.01979592    85.39645899    28.42262902]\n",
      "[ 98.42497692 260.36702688   0.49945655]\n",
      "[-4.25276224e+03  1.84438643e+02 -8.57460237e-01]\n",
      "[-5.10651523e+03  8.24108799e+01  5.99846949e-01]\n",
      "[-2335.03032766   215.46190222     8.60525036]\n",
      "[-4414.93772044   132.28231653    29.76960954]\n",
      "[ 2972.9133191  -1117.21586246   -10.10788773]\n",
      "[ 4783.57406794 -1220.54782681    13.06769044]\n",
      "[-4375.48713459    78.38402987    -6.31592427]\n",
      "[3221.16358749  164.43003844   17.14164069]\n",
      "[-3172.06673535    34.17254868    10.04117134]\n",
      "[-2716.43384598   364.1092418      5.86202275]\n",
      "[-1570.60874133  -261.04454529   -15.23407522]\n",
      "[ 98.2887243  315.83148283   1.73812879]\n",
      "[-1918.08678169   113.11912837    19.05971073]\n",
      "[-2476.07274229    34.82664458   -12.62974107]\n",
      "[-2155.47906505   129.93356129    25.02785223]\n",
      "[-2778.74885683    76.84136477    22.28338335]\n",
      "[-5134.25768631    87.14511955    24.68545075]\n",
      "[-2722.10792501    13.1712307    -15.13499582]\n",
      "[-610.23726484 -202.07412828   -0.95552096]\n",
      "[-2670.78507407   111.9926482      6.38834514]\n",
      "[-4706.76062653   134.73558005    21.5323161 ]\n",
      "[-3906.75982691    73.78984272    12.4436859 ]\n",
      "[2528.87507414   97.84885465   19.43819023]\n",
      "[-1362.74501275   115.75246033   -14.21627127]\n",
      "[ 7.32962494e+03 -2.55514575e+01 -4.08076403e-01]\n",
      "[-1524.22271354  -396.34852539   -14.3399461 ]\n",
      "[-1858.81880662  -135.1587519     10.205937  ]\n",
      "[-1006.5744407     60.44117655     7.14335799]\n",
      "[6546.2342807  -840.53393646    8.66769933]\n",
      "[-2844.41289682    81.46869209   -17.24940486]\n",
      "[-4224.68245947    17.18592815    -9.51873909]\n",
      "[-3812.89799429    47.2469586     18.60303155]\n",
      "[-4571.29344337   158.39806181     8.22914501]\n",
      "[-3.94518055e+03  2.23260118e+02 -2.19878376e+00]\n",
      "[-1985.08702742    -7.0185967     12.62748026]\n",
      "[-5309.49977866  -133.6451671     21.61983324]\n",
      "[-3826.95248598   186.83828331     5.17004928]\n",
      "[-4142.98985781 -2894.37108121   -20.62261886]\n",
      "[3269.40914682 -571.77943964  -10.49440823]\n",
      "[-1034.76794363    25.38743888     6.98595767]\n",
      "[-886.41702505  -48.18549382    9.46325629]\n",
      "[-432.79892538 -190.97066024   -2.79834839]\n",
      "[-5336.65608862    64.48190293    22.5917675 ]\n",
      "[2995.52486449 -284.15395601  -14.91627376]\n",
      "[-1.80462093e+03 -7.31228793e+01  6.69964387e-01]\n",
      "[ 144.38274941 -408.64469495    9.29664752]\n",
      "[-4672.95764613  -123.74529208   -26.85832944]\n",
      "[2.84846177e+04 9.21810046e+02 1.41518145e+01]\n",
      "[-3.30523685e+03  6.54350374e+01  2.20627046e+00]\n",
      "[10209.5216431  -1120.47249968   -26.03486758]\n",
      "[-4.15130493e+03  4.14000445e+01  1.64324318e+00]\n",
      "[-3273.48259658    46.56826499     4.51089804]\n",
      "[6416.80865015  496.43681635   -8.09413457]\n",
      "[-2101.04447241    30.68514789    -7.22425028]\n",
      "[-3.98616363e+03 -3.89851456e+01  3.43769679e+00]\n",
      "[-2349.43834111  -691.95308202    -4.05260197]\n",
      "[7048.17011242  -48.96334638   21.2250787 ]\n",
      "[8622.36109867  145.57191925   13.75791853]\n",
      "[-3419.99010918    12.29948322     4.63458677]\n",
      "[-3811.34882775   -38.23677955     5.79511862]\n",
      "[ 247.01553992 -195.83843455   19.73991477]\n",
      "[-3370.15058675    16.11438787     6.97014861]\n",
      "[9.64405025e+03 9.22438577e+00 7.11879675e+00]\n",
      "[-2112.57516232   212.81117576    -6.0407513 ]\n",
      "[-2870.1855337    181.56349243     9.95498356]\n",
      "[-3191.86326318   291.76064619    32.62621653]\n",
      "[2098.29138817  944.27534665   13.44613624]\n",
      "[-4944.20545822    26.01943669   -26.42727884]\n",
      "[-1540.02445883   119.37703325     9.68519229]\n",
      "[-4.92799990e+03  9.44412968e+01  3.85991535e+00]\n",
      "[-2693.5768887     36.39066198   -23.53443263]\n",
      "[-336.76275415 -281.69211966  -23.93892972]\n",
      "[-1242.6204752   -803.72305316     6.81775497]\n",
      "[3231.98635628  283.10629893  -12.80273511]\n",
      "[-1790.47667634   191.36566112   -12.62492149]\n",
      "[1300.48939231  449.30550893    8.92424316]\n",
      "[-5064.75399528    27.08356708    16.60213265]\n",
      "[8566.24333833 -776.52175584   20.85822393]\n",
      "[-4589.71681485    19.57557244     7.79726302]\n",
      "[-4073.66866927   237.82338343     5.39178154]\n",
      "[5100.29383308 -620.9706949    16.51262345]\n",
      "[-4847.19324283    95.38598386    15.09149199]\n",
      "[-1145.81236423   138.34576444    -9.19009126]\n",
      "[7860.97894028 -538.08617719  -22.81230872]\n",
      "[ 8.13565386e+03 -3.36846703e+02  6.44455432e+00]\n",
      "[8464.35940989  514.62222294   24.78788699]\n",
      "[-1837.05366175    32.25464349    10.45030743]\n",
      "[-1.04675084e+03  5.79076238e+02 -8.94239594e-01]\n",
      "[4483.349832    318.23738827   19.88562468]\n",
      "[6740.09905902 -466.546712     25.66118339]\n",
      "[-3279.65476835   -70.28063034    -7.05067914]\n",
      "[ 2.07903510e+03 -1.68710545e+02 -1.11007240e+00]\n",
      "[-2.51444313e+03 -1.60400042e+02 -1.89304833e+00]\n",
      "[-5086.10062564    91.14459307    -9.29869633]\n",
      "[-3465.0429316     19.37291395    -9.01669922]\n",
      "[ 9.54137572e+03  1.32449399e+02 -6.92692468e+00]\n",
      "[14947.5696845    358.68902052   -31.84672992]\n",
      "[1053.50992004  199.45566896   19.84148802]\n",
      "[-5.03081822e+03  9.93496304e+01 -2.10547976e+00]\n",
      "[3240.33359237  -74.3201813    22.07803145]\n",
      "[1576.52254206   34.82697796   10.36237675]\n",
      "[ 4.30505743e+03 -6.68101937e+02  6.50372099e-01]\n",
      "[11720.17642224  -249.05659141   -12.64850404]\n",
      "[-2088.51439266    63.5461919      4.04887219]\n",
      "[722.3540934  692.02039528  28.62735883]\n",
      "[2834.15096209  -93.47929036  -24.03108693]\n",
      "[ 2.97097470e+03 -3.04166343e+02  1.01325516e+00]\n",
      "[-3.94359444e+03  5.76906121e+01  1.43912510e+00]\n",
      "[-595.95198546 -297.82202195  -30.55608581]\n",
      "[-1835.57318461   431.62715387   -34.72218587]\n",
      "[-4740.25729163   133.34421624    11.33442427]\n",
      "[-1639.51428041    63.69277672   -28.20112667]\n",
      "[-2805.82989549  -213.16820514   -25.85119258]\n",
      "[-3.96242628e+03 -1.51752327e+02  1.93371964e-01]\n",
      "[6082.67629199 -678.95588114   10.03487387]\n",
      "[-4482.68846469    60.48579751    15.30487264]\n",
      "[-3.84095225e+03  5.25510030e+01  2.80061370e+00]\n",
      "[-2.57627186e+03 -2.15261292e+02  1.85639425e+00]\n",
      "[15701.38720138 -1082.75297229    20.25693388]\n",
      "[-5030.85666145    99.29291049    26.86015373]\n",
      "[285.07981482  78.96479888   3.21128817]\n",
      "[743.23342859 742.44586954   7.92386546]\n",
      "[1172.7040886   260.26580582   -7.89088791]\n",
      "[8717.90761911   69.94951696   12.0499984 ]\n",
      "[-1767.94634671   227.84235097     6.29904693]\n",
      "[-3.40402142e+03  1.95394710e+01  2.34260909e+00]\n",
      "[-1133.97386037   389.3561409    -12.46111396]\n",
      "[-2996.86043273   283.35578903     5.5328617 ]\n",
      "[ 1.62614108e+04 -3.53257611e-01  1.62318286e+01]\n",
      "[ 1.02552244e+04 -2.27456881e+02 -2.76098193e+00]\n",
      "[-4.38710266e+03 -2.32514022e+01 -3.97520438e+00]\n",
      "[1879.31976824   -4.26783777   22.34585728]\n",
      "[2595.33593071   91.73436284   11.11384613]\n",
      "[-3.90041507e+03  2.32482708e+01 -5.68119718e-01]\n",
      "[ 2.23850429e+04  3.01422215e+03 -1.30803888e+00]\n",
      "[-3400.87185813    34.12186452     3.81028414]\n",
      "[-3874.23770833   -51.03724916    27.19387222]\n",
      "[9820.89331517 -958.67731751   10.39073848]\n",
      "[-3.64904840e+03 -7.86873486e+01  2.04724193e+00]\n",
      "[-3295.12902046   -90.65731837    -5.10551569]\n",
      "[-180.35529532 -396.71470295    8.3040856 ]\n",
      "[1314.55825592 -299.60536899  -19.16314388]\n",
      "[ 1462.23550259 -1031.64760535    29.14079638]\n",
      "[-4.10090371e+03 -1.54790882e+02 -4.79701625e-01]\n",
      "[-3457.12226141    -3.77919289    -8.90395443]\n",
      "[5054.22462433 -400.79349436   -9.98207014]\n",
      "[-437.37286145 -145.18717025    3.96870422]\n",
      "[-3022.07803054   -33.89547361   -24.26104767]\n",
      "[-4.48749164e+03 -3.71973841e+00 -7.14618576e-01]\n",
      "[-3891.49328823   226.40578576   -12.59177253]\n",
      "[ 239.9892245  -208.87564823  -22.46923178]\n",
      "[-3857.70558012  -450.45455826     4.18226693]\n",
      "[-2440.3091418   -303.71052069     9.19770325]\n",
      "[-2526.92068436   -31.75154358    -3.39248392]\n",
      "[9228.2235437  1357.1494719    26.49055076]\n",
      "[-4.01845113e+03  3.53126403e+01  2.45203597e+00]\n",
      "[3935.12411077 -680.47939536   -7.75067715]\n",
      "[-1635.02283675  -271.99191705   -14.86500813]\n",
      "[4532.21958543 -311.86504079  -14.55994609]\n",
      "[-4867.15951795  -357.72007167    15.07838334]\n",
      "[-544.90323705  123.73515858   12.10616239]\n",
      "[-1495.23150114    32.86833793    -8.45326293]\n",
      "[5198.77427119  -75.17471825  -28.10311298]\n",
      "[2299.43066743 -421.15895041    7.88273731]\n",
      "[-1601.41365523   517.46445678    -3.21286343]\n",
      "[-4988.05240655   106.375024     -11.33972458]\n",
      "[-390.94275992   99.38917138    2.10533884]\n",
      "[-5008.46744512   103.20784245    17.93596504]\n",
      "[-4.31478773e+03  1.74444613e+02  3.68197012e+00]\n",
      "[-5208.12677262    77.97686593   -19.30542401]\n",
      "[-4892.56249051   114.82993164    71.35494074]\n",
      "[-5012.03512725   101.59032934    -7.50148285]\n",
      "[-5084.8558496     83.33537368     8.48803084]\n",
      "[-4580.37760812   138.74261678    -9.77099497]\n",
      "[-4133.68264938   174.0829166     16.81682727]\n",
      "[-5320.3280167     65.00991136    -5.4675287 ]\n",
      "[2454.19373599 -162.78869692    5.66976938]\n",
      "[5911.61154703  199.20197524  -18.71017572]\n",
      "[2250.05053704  961.20467585  -27.33586361]\n",
      "[ 169.98450036 -162.69625217  -27.1187492 ]\n",
      "[-4971.99021883   103.50278999    30.89547029]\n",
      "[-5185.06712354    75.76527513    11.77824726]\n",
      "[-4.06685549e+03  1.56609395e+02 -3.74820244e+00]\n",
      "[-2822.77368663    10.56351651   -20.6748394 ]\n",
      "[ 512.11450697 -439.2457645    13.42237778]\n",
      "[1753.67612025 -373.83973202   -6.17426537]\n",
      "[702.60370256 128.43417046 -37.79727313]\n",
      "[586.76382943 -43.17506585   5.69395531]\n",
      "[636.73038406 139.22505705  16.11287217]\n",
      "[-4505.10358766   153.42161159    11.0625204 ]\n",
      "[ 9.59344305e+03 -2.18798060e+02  1.75824916e+00]\n",
      "[1702.7338411  -410.33619595   11.60764073]\n",
      "[-2.90959355e+03  4.79137534e+01  2.54988162e+00]\n",
      "[-3.54304922e+03 -1.76275199e+01 -2.43664421e+00]\n",
      "[-4170.58278568   -37.91155154   -17.59848093]\n",
      "[  64.52540624 -440.11719225  -11.17400313]\n",
      "[1199.18033194 -169.9717591   -12.34957527]\n",
      "[ 617.44454498 -323.61309759  -12.03120535]\n",
      "[ 203.11590742 -320.87804642    0.54479013]\n",
      "[6018.29755947  284.26868556   15.27828935]\n",
      "[-2572.67538856    -2.7551615     -9.7698073 ]\n",
      "[2522.80983584  279.91565491  -42.19282066]\n",
      "[-3267.71576534   -36.67508038    -9.76113555]\n",
      "[-1472.33550108     3.94763092   -38.74044147]\n",
      "[-5121.28702313    80.24657784    12.88928694]\n",
      "[ 36.89289123 -22.44291076 -16.47028735]\n",
      "[4731.64817962 -445.09502646   -5.14897548]\n",
      "[-1165.71555895    50.97753891   -19.0693115 ]\n",
      "[-1199.42015752   -27.50083751     7.15370638]\n",
      "[-5.42302383e+03  5.42029425e+01  5.42518086e-01]\n",
      "[-2762.99251353   -28.75567246   -15.03294163]\n",
      "[-1884.26647188     8.8317126    -11.2389681 ]\n",
      "[-5.03255084e+03  8.62015730e+01  9.32915895e-02]\n",
      "[-4573.38948147   126.5655898      9.60868713]\n",
      "[15114.57346662   693.71995076    49.6829485 ]\n",
      "[-2089.17489974    19.17028672    -6.24027871]\n",
      "[ 2.39119523e+03 -2.81757106e+00  1.75796050e+00]\n",
      "[-2.76717193e+03  5.99937228e+00 -1.62666707e+00]\n",
      "[-4.56342673e+03 -6.53732845e-02  1.99924971e+01]\n",
      "[-4436.74079792   138.44397186    11.03852158]\n",
      "[-1005.85555304   -62.58839088     1.7706964 ]\n",
      "[ 1.07990521e+04 -1.61322421e+03 -5.58911066e+00]\n",
      "[ 5.48191665e+03 -4.12947336e+02  4.15180319e+00]\n",
      "[-4995.94701378    97.79806796   -18.31730049]\n",
      "[-2.35224247e+03 -6.53989366e+01  5.15324553e-01]\n",
      "[-1026.34489397  -183.35290789     2.6882084 ]\n",
      "[-2649.02730975    58.29008706    22.92535187]\n",
      "[-3258.88123209    -3.81223888    -9.85096488]\n",
      "[-1046.33856825  -303.20743191    -6.30851499]\n",
      "[-2.22938426e+03 -5.96321081e+01 -1.56131561e+00]\n",
      "[-337.42556403   87.49166151   -5.33640613]\n",
      "[-1.91761592e+03 -2.69430241e+02 -1.34949778e+00]\n",
      "[-909.62041693  521.94600156   -4.64854909]\n",
      "[6.34744816e+03 1.42368467e+03 4.09424002e-01]\n",
      "[ 5.76343106e+03 -2.99546039e+02 -4.74475352e-01]\n",
      "[782.34933844 245.02322242  -5.46650561]\n",
      "[5104.43442243  420.45861241   10.88599159]\n",
      "[-4292.24161412    12.8310212      4.77088495]\n",
      "[-2811.51504324   -52.62622192    -7.90011119]\n",
      "[533.99186934 -91.61548558 -17.93977102]\n",
      "[4497.18304364  676.55904172  -12.87908902]\n",
      "[-1298.37321711   138.49769964     4.09009001]\n",
      "[-1.58513684e+03  2.09319807e+02  1.01779864e+00]\n",
      "[-2368.8238624     77.52485763    14.22502043]\n",
      "[-4.33187345e+03  7.43658973e+00  2.10925871e+00]\n",
      "[-1802.94110143   458.0469265     14.77579685]\n",
      "[ 6.44292136e+03 -3.18646010e+02 -2.19826432e+00]\n",
      "[-3.16453760e+03 -1.87810083e+02 -1.82824902e+00]\n",
      "[-1561.72486607   182.21164031    -4.70938788]\n",
      "[-2931.73186582   -27.78722064     9.00647198]\n",
      "[-2209.18180719   -29.67477606     7.56799074]\n",
      "[ 6.92768654e+03 -6.30256204e-01 -3.69861716e+01]\n",
      "[-2237.37305398   101.75022194     2.98026814]\n",
      "[-3484.44108937    23.59785573    15.06285908]\n",
      "[ 7.59710791e+03 -1.10279634e+03  8.00808381e-01]\n",
      "[-1956.15401558    57.61087282   -10.42553708]\n",
      "[-1.20990636e+03 -7.70209900e-01 -1.41479907e+01]\n",
      "[-4647.08436929   122.72005777    29.16532602]\n",
      "[203.7402506  223.35912316  -8.9813904 ]\n",
      "[14081.12851449  1126.99108726    25.94549444]\n",
      "[-4.97410213e+03  1.06018695e+02  4.70807522e+00]\n",
      "[-1626.43801307   176.50522701   -12.50226437]\n",
      "[-3.88916147e+03  6.41205906e+01 -1.52312843e+00]\n",
      "[-4241.8293039    130.79554685    29.72817497]\n",
      "[-4.78223759e+03  2.95981378e+01 -3.27106491e+00]\n",
      "[5594.85150888 -267.33814408   21.63646772]\n",
      "[-1722.79343828  -137.48310086   -15.98241279]\n",
      "[-4016.9211156     -8.81379301   -11.71947559]\n",
      "[-1309.17167054   -63.73688358   -16.9666086 ]\n",
      "[-844.59571611  107.99186558  -13.09000222]\n",
      "[-4.03661995e+03 -1.50223079e+00  4.06322825e-01]\n",
      "[-2002.34746388   185.30143402     9.89133207]\n",
      "[-5.42142667e+03  5.14193028e+01 -9.88484118e-01]\n",
      "[872.43233129  27.00360121  25.36987788]\n",
      "[-4567.64845418    17.53675255    17.90321273]\n",
      "[5015.79946144 -114.26328816  -31.19254077]\n",
      "[-4.04658154e+03  3.94984826e+01  2.13949499e+00]\n",
      "[-1695.63076338  -491.19990244    -8.70121063]\n",
      "[-5355.66235788    54.7945217     -7.99490286]\n",
      "[2054.1120746   -56.16441531    7.74259516]\n",
      "[ 269.96312584 -567.03718966    5.41309489]\n",
      "[-4165.4046554     32.24262015     5.57472194]\n",
      "[-5305.19862281    61.92902942    11.858489  ]\n",
      "[-5.20656842e+03  7.52701055e+01 -6.73459146e-01]\n",
      "[451.53324496   9.10719302 -10.50995331]\n",
      "[-4185.43811198  -187.41459082    -7.77175479]\n",
      "[4636.79273527 -893.47456559   26.95759022]\n",
      "[-1485.59359256   112.98804696   -20.11390918]\n",
      "[-4.20138868e+03 -1.29956497e+01  2.10126543e+00]\n",
      "[11533.29594123  1295.79817445   -22.06568469]\n",
      "[-3785.74081698    78.32964522     4.74365113]\n",
      "[ 1.19100098e+04 -9.20603478e+01 -5.04175083e+00]\n",
      "[ 1.07328265e+04 -3.93532918e+02  6.14184007e+00]\n",
      "[-3.91354282e+03  7.99301955e+01  3.24932703e+00]\n",
      "[-3716.4978302    254.51751174    -4.89586273]\n",
      "[-3296.91214277   106.83097143    19.66303289]\n",
      "[-5165.73656657  -109.6080694    -30.9142799 ]\n",
      "[ 4669.50162388 -1093.677863      16.01698854]\n",
      "[2824.26579028  -91.02838182   11.90574436]\n",
      "[-2639.69022145   -44.16016163     5.69906718]\n",
      "[-4352.70363385    34.82068916    12.45642734]\n",
      "[-2689.27782744    35.87619035   -20.99069964]\n",
      "[-1557.78423901   498.00623474     5.76597158]\n",
      "[-1557.69950129   497.99771351   -41.06386333]\n",
      "[ 2.26878249e+04 -9.29686401e+02  1.06660973e+01]\n",
      "[-3402.67573191    56.04505375     7.57870517]\n",
      "[-4601.9913615     32.14279997   -17.30315662]\n",
      "[-5.21406581e+03  4.82568097e+01 -4.22857277e+00]\n",
      "[-1313.39279707  -412.66408108    13.99005133]\n",
      "[-2.46685875e+03 -2.14820306e+01 -4.56244363e-01]\n",
      "[-3921.31759132   -66.30188972   -17.12462635]\n",
      "[ 2.67477266e+04 -8.16304586e+02  2.43010771e+01]\n",
      "[-2819.50860416  -223.42819843    -6.75095335]\n",
      "[-4041.17522052    65.42251905    14.01457476]\n",
      "[-3.53349647e+03  4.22535744e+01 -1.43881661e+00]\n",
      "[4109.72425059 1161.50846232    8.61207018]\n",
      "[ 4277.96469092 -1035.55163642    12.59020597]\n",
      "[-2135.4515802   -133.55986164   -14.55301295]\n",
      "[-4976.5262786    104.81685813   -14.04520567]\n",
      "[-1851.14293235     9.3370002     -2.76258102]\n",
      "[4963.8704895   -66.73789791  -32.42188628]\n",
      "[-5.07338258e+03  8.95079161e+01  4.50197142e+00]\n",
      "[-1809.14842655   -47.59063855     8.93467665]\n",
      "[-303.88330444  193.11112813    9.54312279]\n",
      "[2800.4433785   277.54918833  -13.56044499]\n",
      "[-3.88396621e+03 -2.08884714e+01 -2.18814663e+00]\n",
      "[-2343.94231988  -371.24501521     6.9487166 ]\n",
      "[-594.40687198  386.52630236   -8.93538605]\n",
      "[-139.59082134  -95.39345985    9.02551811]\n",
      "[-642.34367256  577.82343856    6.32120853]\n",
      "[-185.9914286   -52.15700297    9.5865802 ]\n",
      "[-5115.87773473    77.20772651    -9.53090477]\n",
      "[-5535.22315097    40.37148677    22.30936105]\n",
      "[6.78268906e+03 3.96736412e+02 6.60617244e+00]\n",
      "[-2631.73505624    45.69114514    15.6764712 ]\n",
      "[2062.27231329   77.4652867    -8.50459354]\n",
      "[5428.33299079  390.35065186    6.66897465]\n",
      "[ 1.14029410e+04 -9.24988696e+00 -5.25030457e+00]\n",
      "[-2.75459842e+03 -8.45402337e+00 -2.95610334e-03]\n",
      "[4048.85548997 1099.48414124   23.56441674]\n",
      "[3364.00373428  -52.07621064   -4.15721065]\n",
      "[4138.4348457  -312.29107728  -11.47784844]\n",
      "[-4362.79094202   178.03047263   -10.72906892]\n",
      "[6071.39874696 -109.1071931     7.53812949]\n",
      "[ 2.11056111e+03 -7.25188162e+01  1.43715911e+00]\n",
      "[-3708.21751422    38.42489749    10.9645537 ]\n",
      "[-161.78129031  122.73096035  -10.53717895]\n",
      "[7893.07504068 1587.05505631   13.64941502]\n",
      "[1306.56121995   34.24392341  -26.65117026]\n",
      "[-5357.04182432    58.01725614     9.05859769]\n",
      "[-5354.71437857  -153.81634297   -12.93641156]\n",
      "[-5.19135118e+03  7.46921068e+01 -2.10975972e+00]\n",
      "[-1908.36130108    63.12359245   -10.91535403]\n",
      "[11058.23242042  1180.9787325     15.23374066]\n",
      "[-3351.07955004    22.75604845     9.566718  ]\n",
      "[919.19408879  68.24861383 -45.15421111]\n",
      "[10170.77244351   801.01469651    21.10678217]\n",
      "[1571.1762903   712.61115076   -4.25425917]\n",
      "[2196.47885832 -227.28050301   -3.26808976]\n",
      "[-5501.14096004   -25.56196984    14.71295098]\n",
      "[-3516.04021167    -9.78970959   -16.89957664]\n",
      "[-5052.24642141    94.63404758   -15.36084875]\n",
      "[-4080.22384283    46.97959845     9.79935696]\n",
      "[-5236.10711932  -404.93421977   -20.66520625]\n",
      "[ 762.28553365 -167.30022016  -19.49581505]\n",
      "[-4.10906076e+03  3.80479977e+01  1.68889862e+00]\n",
      "[-1858.99010087   136.32671221    14.52138995]\n",
      "[-4182.36047543    60.18484417     9.21133253]\n",
      "[  241.66249343 -1935.88681433    -8.09017866]\n",
      "[6.57830439e+03 3.39925622e+01 2.55558825e-01]\n",
      "[2664.44017584   13.60134771  -21.61683872]\n",
      "[ 5.75404690e+03 -6.30480142e+02  4.04106809e+00]\n",
      "[-4290.34771684   -47.4642201     10.69878623]\n",
      "[-2292.60642171   -64.11754432   -27.49668104]\n",
      "[8207.97245101 -165.49307484   -8.67214861]\n",
      "[-2874.77171491   -13.82281486    -6.31622922]\n",
      "[14659.51052833   -79.81632326   -21.34503112]\n",
      "[-225.07200201 -113.14001942   11.16671496]\n",
      "[2.55213274e+04 5.37800424e+02 1.72412451e+01]\n",
      "[ 9.21547775e+03 -1.61831931e+02  8.58714333e+00]\n",
      "[-2978.89559128    42.58062429    -3.83191164]\n",
      "[193.29848945 190.48650771   3.50364086]\n",
      "[-651.34397354   63.72831227   14.09568472]\n",
      "[-2317.36312959   403.4698651     -8.64370316]\n",
      "[ 920.35134835 -354.79105441    7.21522941]\n",
      "[-2592.12465954  -114.6314344     23.66302953]\n",
      "[-2015.43124438     4.04344978    -8.04966219]\n",
      "[-1.97775961e+03  9.28190040e+01  1.88737050e+00]\n",
      "[-4436.61137657   159.81632107    -5.25457188]\n",
      "[2229.65545732  608.10158526    3.67823805]\n",
      "[4357.00892893 -517.96326112   18.1106814 ]\n",
      "[19244.68036458  -485.9189112     21.65557096]\n",
      "[174.81165896 -34.00483363  -5.98773255]\n",
      "[-1651.99697544    83.19738251   -18.30763408]\n",
      "[ 3.69199431e+03  8.96873899e+01 -3.27352822e+00]\n",
      "[ 4.59122561e+03 -8.06685455e+02  1.29038548e-01]\n",
      "[555.85357983  37.15667751   8.11567159]\n",
      "[-413.03128904  -51.05539957    4.10507907]\n",
      "[6142.78476577   77.20022252   16.43805354]\n",
      "[-3540.0111288     59.50743557     5.24166062]\n",
      "[5816.71957218 -338.53389036    8.75575327]\n",
      "[-3328.25187238    -7.36349187    -6.52960973]\n",
      "[-3.09767976e+03 -1.03315870e+00 -5.06627600e+00]\n",
      "[-2418.28168024    17.41688325   -11.11211392]\n",
      "[-5113.18142904    30.61735639    19.33289247]\n",
      "[-5507.14347065    40.37014536    18.01720011]\n",
      "[ 748.15550414 -173.41004079   -8.30289508]\n",
      "[-2407.10853555  -157.62135589    -9.40240013]\n",
      "[-4429.09592179    73.85718166     5.45144651]\n",
      "[3347.65300997  -46.21427265   -3.95509318]\n",
      "[-1312.32125146   -68.16220885    -4.74193244]\n",
      "[-4571.95335868   -41.75732276    21.03801692]\n",
      "[7655.34512806 -600.97310505    8.52647321]\n",
      "[1283.53918989  817.4563232    14.09952285]\n",
      "[9569.20060705 -405.92482091   12.65530889]\n",
      "[5330.47001504 -164.28368836  -15.74325992]\n",
      "[-2199.35873066   -74.6927962     -2.23446631]\n",
      "[-2821.3914146    -44.93941391    17.13132344]\n",
      "[-752.45138847  120.64788636  -18.28147203]\n",
      "[-1.94328807e+03 -9.53708214e+01 -7.20826019e-01]\n",
      "[-2985.54263193  -110.70506404    -4.35363394]\n",
      "[-4348.41540843    51.7321548     -9.54259331]\n",
      "[2723.60565652 -314.74042131   18.83926715]\n",
      "[-5479.90446968    46.36740945    11.91489731]\n",
      "[-2136.77301205   100.36522804    12.12758339]\n",
      "[-315.94649616   74.48252753  -13.77577697]\n",
      "[-2675.36794405    88.1653039    -10.80280716]\n",
      "[-1678.73272923     7.74892149    -1.9628393 ]\n",
      "[-3989.46671147    56.35131332    16.87675065]\n",
      "[-4109.86807013    44.02614865    -5.88994032]\n",
      "[-3650.06243483   -91.86015489    -4.44577572]\n",
      "[ 906.9905631  -661.30677675  -15.83578992]\n",
      "[1619.83725019  345.86386135  -14.1370278 ]\n",
      "[-4.04096588e+03 -2.07447197e+00 -6.11155335e+00]\n",
      "[3421.12980951  -72.45132743  -17.74767377]\n",
      "[-3427.10363194    59.80793667     5.4796434 ]\n",
      "[-4126.75538214    64.89329811    -8.25517343]\n",
      "[-1346.30880756    82.59516653    -4.5139255 ]\n",
      "[ 943.58246518 -259.57912581  -15.17680052]\n",
      "[-3.47161408e+03  2.29267344e+02  3.32181227e-01]\n",
      "[-1499.33984678  -423.98921059    -6.84683037]\n",
      "[-1735.36736688    99.88702662    -2.50999937]\n",
      "[-3362.74216598    15.1350818      3.36299827]\n",
      "[-5214.5433377     79.01834451    -6.72480165]\n",
      "[-2.20252789e+03  2.70999882e+02  4.10588425e-01]\n",
      "[ 5.37751990e+03 -9.97495358e+02  7.18388015e-01]\n",
      "[-4.10494473e+03  2.11318788e+02  1.53178943e-02]\n",
      "[-301.7114053     5.69510375    8.73860726]\n",
      "[ 1.55074784e+04 -3.81000658e+02 -6.84450632e+00]\n",
      "[-1662.49511011   102.95620249    -7.01266918]\n",
      "[3461.81502715 -511.05089736    6.74948593]\n",
      "[-2004.59000221   -53.06086985    -3.54856368]\n",
      "[-5247.33024912    76.03162901   -15.7714239 ]\n",
      "[261.08924181 -11.24503253   9.7910456 ]\n",
      "[-4127.29191722    51.66829752     8.91702779]\n",
      "[-3948.94961091    32.75102981    -4.38160763]\n",
      "[2210.26732717  275.29355835   -4.86115146]\n",
      "[-5454.20307095    50.59239186   -10.38114035]\n",
      "[-2151.42698993   -21.80645419    14.73924132]\n",
      "[630.92100799 -87.70059504   1.56511564]\n",
      "[-4968.8183116    108.92971984   -15.08674386]\n",
      "[-3386.01583384    36.19794038     5.26077904]\n",
      "[-3102.7003894     -8.94372232    27.34554839]\n",
      "[-3.61812280e+03  5.28869464e+01  4.50052254e-01]\n",
      "[-2487.32995884    77.46257255    24.92997239]\n",
      "[ 1.09707338e+04 -7.84087097e+02  8.90390261e+00]\n",
      "[-2443.72750925   -41.6088234     10.23756008]\n",
      "[-5280.49386249    68.53917704    24.09766612]\n",
      "[-3135.08887711   312.01329703   -22.16921968]\n",
      "[1032.79457693  -65.58720865  -28.55402366]\n",
      "[2226.33505092  835.79644417  -13.47687439]\n",
      "[-249.11096076   71.61981219  -29.60519257]\n",
      "[-194.21558405  -92.40817622  -35.09248372]\n",
      "[-5388.11666766    56.44802268     7.33505028]\n",
      "[-4370.82583911    11.29720862   -14.15955733]\n",
      "[-2196.94725154   423.52267826   -16.79308806]\n",
      "[1072.96553702  -43.28003404   10.2588266 ]\n",
      "[-6.97985295e+02 -8.19125686e+00  2.47810144e-01]\n",
      "[-2373.26338209    70.89898731    10.63297848]\n",
      "[-3575.62176661   217.37369285   -19.87866731]\n",
      "[-2397.58880906    96.97606776   -12.87620221]\n",
      "[-2752.24737896    69.68964582   -22.85416187]\n",
      "[-3201.15237871    18.06822668     7.70616032]\n",
      "[-2461.05677914    29.82766827   -10.742246  ]\n",
      "[ 250.6997728  -378.10183019   11.78076611]\n",
      "[-1428.37849143   -47.80229412     3.0682911 ]\n",
      "[-2747.25263171   -26.64417673    -4.31137596]\n",
      "[ 6.48238016e+03 -2.70786114e+02 -2.13501714e+00]\n",
      "[-217.25002763 -549.78269464  -23.15029729]\n",
      "[1142.59795039 -504.03916441   -9.03594999]\n",
      "[-3340.52933255   -20.14692619    -4.91031761]\n",
      "[-4083.20520278    65.74768371    13.87341841]\n",
      "[-3248.77508781  -109.62655329    20.80824051]\n",
      "[-2.46419882e+03  2.83145902e+01 -1.99929026e+00]\n",
      "[ 392.82212028 -473.58749768  -11.85718309]\n",
      "[-436.24544856 -231.06447089   24.45380324]\n",
      "[-5320.77003361    64.99656202    17.7538541 ]\n",
      "[-5392.14076971  -689.65693636     5.7272612 ]\n",
      "[-5.08389080e+03  9.39933357e+01  2.75924450e+00]\n",
      "[7834.27326977  557.73198016  -41.62254057]\n",
      "[1853.1795313  -852.07651912   19.05313892]\n",
      "[-5425.79897126    52.83054052    21.5855375 ]\n",
      "[ 197.56540308 -154.83402145  -25.46896449]\n",
      "[-5333.83450404    63.07206283    22.57432247]\n",
      "[ 2522.90132732 -1326.4147083     17.58161991]\n",
      "[-859.78760583 -193.22159733   13.92068233]\n",
      "[8929.57923971  698.69775825  -41.70628143]\n",
      "[1140.20923056 -164.35720977   16.22721014]\n",
      "[-815.22949151  183.64802568    6.63870084]\n",
      "[15468.65236282  1221.46751686   -28.71400069]\n",
      "[-3256.21831898   -79.21210502   -11.07052399]\n",
      "[-2768.03694916  -449.33801425   -13.37406384]\n",
      "[-1823.44928914   103.80985216    17.27645543]\n",
      "[-5.28978116e+03  6.51789496e+01  4.10288014e+00]\n"
     ]
    }
   ],
   "source": [
    "from sklearn.decomposition import PCA\n",
    "pca = PCA(n_components=3)\n",
    "pca.fit(nparray)\n",
    "nparray = pca.transform(nparray)\n",
    "for element in nparray:\n",
    "    print(element)\n"
   ]
  },
  {
   "cell_type": "code",
   "execution_count": 57,
   "metadata": {},
   "outputs": [
    {
     "name": "stdout",
     "output_type": "stream",
     "text": [
      "-21.565895050270427\n",
      "[[ 1.00000000e+00  0.00000000e+00  0.00000000e+00]\n",
      " [ 0.00000000e+00  1.00000000e+00  8.88178420e-16]\n",
      " [ 0.00000000e+00 -5.55111512e-16  1.00000000e+00]]\n",
      "[2.71565378e+07 1.74363829e+05 2.29795590e+02]\n"
     ]
    }
   ],
   "source": [
    "print(pca.score(nparray))\n",
    "print(pca.components_)\n",
    "print(pca.explained_variance_)"
   ]
  },
  {
   "cell_type": "code",
   "execution_count": 58,
   "metadata": {},
   "outputs": [
    {
     "data": {
      "text/html": [
       "<div>\n",
       "<style scoped>\n",
       "    .dataframe tbody tr th:only-of-type {\n",
       "        vertical-align: middle;\n",
       "    }\n",
       "\n",
       "    .dataframe tbody tr th {\n",
       "        vertical-align: top;\n",
       "    }\n",
       "\n",
       "    .dataframe thead th {\n",
       "        text-align: right;\n",
       "    }\n",
       "</style>\n",
       "<table border=\"1\" class=\"dataframe\">\n",
       "  <thead>\n",
       "    <tr style=\"text-align: right;\">\n",
       "      <th></th>\n",
       "      <th>principal component 1</th>\n",
       "      <th>principal component 2</th>\n",
       "      <th>principal component 3</th>\n",
       "    </tr>\n",
       "  </thead>\n",
       "  <tbody>\n",
       "    <tr>\n",
       "      <th>0</th>\n",
       "      <td>-1406.779252</td>\n",
       "      <td>521.476199</td>\n",
       "      <td>6.973337</td>\n",
       "    </tr>\n",
       "    <tr>\n",
       "      <th>1</th>\n",
       "      <td>3364.003395</td>\n",
       "      <td>-52.036078</td>\n",
       "      <td>-5.978573</td>\n",
       "    </tr>\n",
       "    <tr>\n",
       "      <th>2</th>\n",
       "      <td>1343.000671</td>\n",
       "      <td>854.816460</td>\n",
       "      <td>24.527342</td>\n",
       "    </tr>\n",
       "    <tr>\n",
       "      <th>3</th>\n",
       "      <td>16878.828416</td>\n",
       "      <td>1189.613232</td>\n",
       "      <td>-17.278822</td>\n",
       "    </tr>\n",
       "    <tr>\n",
       "      <th>4</th>\n",
       "      <td>-4544.247853</td>\n",
       "      <td>-30.726686</td>\n",
       "      <td>-3.994269</td>\n",
       "    </tr>\n",
       "    <tr>\n",
       "      <th>...</th>\n",
       "      <td>...</td>\n",
       "      <td>...</td>\n",
       "      <td>...</td>\n",
       "    </tr>\n",
       "    <tr>\n",
       "      <th>588</th>\n",
       "      <td>15468.652363</td>\n",
       "      <td>1221.467517</td>\n",
       "      <td>-28.714001</td>\n",
       "    </tr>\n",
       "    <tr>\n",
       "      <th>589</th>\n",
       "      <td>-3256.218319</td>\n",
       "      <td>-79.212105</td>\n",
       "      <td>-11.070524</td>\n",
       "    </tr>\n",
       "    <tr>\n",
       "      <th>590</th>\n",
       "      <td>-2768.036949</td>\n",
       "      <td>-449.338014</td>\n",
       "      <td>-13.374064</td>\n",
       "    </tr>\n",
       "    <tr>\n",
       "      <th>591</th>\n",
       "      <td>-1823.449289</td>\n",
       "      <td>103.809852</td>\n",
       "      <td>17.276455</td>\n",
       "    </tr>\n",
       "    <tr>\n",
       "      <th>592</th>\n",
       "      <td>-5289.781157</td>\n",
       "      <td>65.178950</td>\n",
       "      <td>4.102880</td>\n",
       "    </tr>\n",
       "  </tbody>\n",
       "</table>\n",
       "<p>593 rows × 3 columns</p>\n",
       "</div>"
      ],
      "text/plain": [
       "     principal component 1  principal component 2  principal component 3\n",
       "0             -1406.779252             521.476199               6.973337\n",
       "1              3364.003395             -52.036078              -5.978573\n",
       "2              1343.000671             854.816460              24.527342\n",
       "3             16878.828416            1189.613232             -17.278822\n",
       "4             -4544.247853             -30.726686              -3.994269\n",
       "..                     ...                    ...                    ...\n",
       "588           15468.652363            1221.467517             -28.714001\n",
       "589           -3256.218319             -79.212105             -11.070524\n",
       "590           -2768.036949            -449.338014             -13.374064\n",
       "591           -1823.449289             103.809852              17.276455\n",
       "592           -5289.781157              65.178950               4.102880\n",
       "\n",
       "[593 rows x 3 columns]"
      ]
     },
     "execution_count": 58,
     "metadata": {},
     "output_type": "execute_result"
    }
   ],
   "source": [
    "principalDf = pd.DataFrame(data = nparray\n",
    "             , columns = ['principal component 1', 'principal component 2',  'principal component 3'])\n",
    "principalDf"
   ]
  },
  {
   "cell_type": "code",
   "execution_count": 59,
   "metadata": {},
   "outputs": [
    {
     "name": "stdout",
     "output_type": "stream",
     "text": [
      "27110742.637934327\n",
      "27156537.811309215\n",
      "174069.7924839085\n",
      "174363.8292955368\n",
      "229.4080767631498\n",
      "229.79559040633097\n"
     ]
    }
   ],
   "source": [
    "n_samples = nparray.shape[0]\n",
    "# We center the data and compute the sample covariance matrix.\n",
    "X_centered = nparray - np.mean(nparray, axis=0)\n",
    "cov_matrix = np.dot(X_centered.T, X_centered) / n_samples\n",
    "eigenvalues = pca.explained_variance_\n",
    "for eigenvalue, eigenvector in zip(eigenvalues, pca.components_):    \n",
    "    print(np.dot(eigenvector.T, np.dot(cov_matrix, eigenvector)))\n",
    "    print(eigenvalue)"
   ]
  },
  {
   "cell_type": "code",
   "execution_count": 60,
   "metadata": {},
   "outputs": [
    {
     "name": "stdout",
     "output_type": "stream",
     "text": [
      "-5535.223150968142 28484.617682157863\n",
      "(593, 3)\n"
     ]
    }
   ],
   "source": [
    "#kmeans2 = KMeans(n_clusters=2, random_state=0).fit(nparray)\n",
    "leng = len(nparray)\n",
    "print(np.min(nparray), np.max(nparray))\n",
    "print(np.shape(nparray))\n",
    "#plt.scatter(nparray)"
   ]
  },
  {
   "cell_type": "code",
   "execution_count": 61,
   "metadata": {},
   "outputs": [
    {
     "name": "stdout",
     "output_type": "stream",
     "text": [
      "[0 1 0 1 0 0 0 0 1 0 0 0 0 1 0 0 0 0 0 0 0 1 1 1 1 1 0 0 1 1 0 0 1 1 0 0 1\n",
      " 1 0 0 0 0 0 1 0 1 1 0 0 0 0 0 0 0 0 0 0 0 0 0 0 0 0 0 0 1 0 1 0 0 1 0 0 1\n",
      " 1 0 0 0 0 0 0 0 0 0 1 0 1 0 0 0 0 0 0 0 0 0 0 0 0 0 0 0 0 1 0 0 0 1 0 0 0\n",
      " 0 0 0 0 0 0 1 0 0 0 0 0 0 0 0 1 0 1 0 0 1 0 0 0 1 1 0 0 0 0 1 0 0 0 0 0 0\n",
      " 0 0 0 0 1 0 0 0 1 0 0 1 0 0 1 1 1 0 0 1 1 0 0 0 0 0 1 1 0 0 1 0 1 1 0 0 0\n",
      " 0 0 0 0 0 0 0 0 1 0 0 0 1 0 0 0 0 1 0 0 0 0 1 1 0 0 0 0 1 0 0 1 0 0 0 0 0\n",
      " 0 0 1 0 0 0 0 0 0 0 0 1 0 1 0 1 0 0 0 1 0 0 0 0 0 0 0 0 0 0 0 0 0 0 1 0 0\n",
      " 0 0 0 0 0 0 0 0 0 0 1 0 0 0 0 0 0 0 0 1 0 0 0 0 0 0 1 0 0 0 0 0 0 0 1 0 0\n",
      " 0 0 0 0 1 1 0 0 0 0 0 0 0 0 0 0 1 1 0 1 0 0 0 1 0 0 0 0 0 1 0 0 0 0 1 0 0\n",
      " 1 0 0 0 0 1 0 0 0 0 0 1 0 0 0 0 0 0 0 0 0 1 0 0 0 0 0 0 0 0 0 0 1 0 0 1 0\n",
      " 1 1 0 0 0 0 1 0 0 0 0 0 0 1 0 0 0 0 0 0 1 0 0 0 1 1 0 0 0 1 0 0 0 0 0 0 0\n",
      " 0 0 0 0 0 1 0 0 1 1 0 1 1 1 0 1 0 0 0 1 0 0 0 0 0 1 0 0 1 0 0 0 0 0 0 0 0\n",
      " 0 0 0 0 1 0 1 0 0 1 0 1 0 1 1 0 0 0 0 0 0 0 0 0 0 1 1 0 0 1 1 0 0 1 0 1 0\n",
      " 0 0 0 0 0 0 0 1 0 0 1 0 1 1 0 0 0 0 0 0 0 0 0 0 0 0 0 0 0 0 0 0 1 0 0 0 0\n",
      " 0 0 0 0 0 0 1 0 0 1 0 1 0 0 0 0 0 0 0 0 0 0 0 0 0 0 1 0 0 0 0 0 0 0 0 0 0\n",
      " 0 0 0 0 0 0 0 0 0 0 0 1 0 0 0 0 0 0 0 0 0 0 0 1 0 0 0 0 0 0 1 0 0 1 0 0 0\n",
      " 0]\n"
     ]
    },
    {
     "data": {
      "text/plain": [
       "array([[-2.15195759e+03,  1.11417784e+01, -2.23855381e-01],\n",
       "       [ 8.39441308e+03, -4.34621440e+01,  8.73220989e-01]])"
      ]
     },
     "execution_count": 61,
     "metadata": {},
     "output_type": "execute_result"
    }
   ],
   "source": [
    "kmeans2 = KMeans(n_clusters=2)\n",
    "y_kmeans2 = kmeans2.fit_predict(nparray)\n",
    "print(y_kmeans2)\n",
    "\n",
    "kmeans2.cluster_centers_"
   ]
  },
  {
   "cell_type": "code",
   "execution_count": 62,
   "metadata": {},
   "outputs": [
    {
     "data": {
      "text/plain": [
       "array([[-2.15195759e+03,  1.11417784e+01, -2.23855381e-01],\n",
       "       [ 8.39441308e+03, -4.34621440e+01,  8.73220989e-01]])"
      ]
     },
     "execution_count": 62,
     "metadata": {},
     "output_type": "execute_result"
    }
   ],
   "source": [
    "kmeans2.cluster_centers_"
   ]
  },
  {
   "cell_type": "markdown",
   "metadata": {},
   "source": [
    "### Elbow method sugiere k =3 "
   ]
  },
  {
   "cell_type": "code",
   "execution_count": 63,
   "metadata": {},
   "outputs": [
    {
     "data": {
      "image/png": "[encoded data removed]",
      "text/plain": [
       "<Figure size 432x288 with 1 Axes>"
      ]
     },
     "metadata": {},
     "output_type": "display_data"
    }
   ],
   "source": [
    "Error =[]\n",
    "for i in range(1, 11):\n",
    "    kmeans = KMeans(n_clusters = i).fit(nparray)\n",
    "    kmeans.fit(nparray)\n",
    "    Error.append(kmeans.inertia_)\n",
    "\n",
    "plt.plot(range(1, 11), Error)\n",
    "plt.title('Elbow method')\n",
    "plt.xlabel('No of clusters')\n",
    "plt.ylabel('Error')\n",
    "plt.show()"
   ]
  },
  {
   "cell_type": "code",
   "execution_count": 65,
   "metadata": {},
   "outputs": [
    {
     "name": "stdout",
     "output_type": "stream",
     "text": [
      "[1 0 0 2 1 1 1 1 0 1 0 1 1 0 1 1 1 1 1 1 0 2 2 0 0 2 1 0 2 2 1 1 2 2 1 0 2\n",
      " 0 1 0 0 1 1 2 0 0 2 1 1 0 0 1 0 1 1 1 1 0 1 1 1 1 0 1 0 0 0 0 0 0 0 1 1 0\n",
      " 2 1 1 1 0 1 1 1 1 0 0 1 0 1 1 1 0 1 1 1 1 1 1 1 1 1 1 0 1 0 1 1 1 0 1 1 1\n",
      " 1 1 1 1 1 1 0 1 1 1 1 0 1 0 1 2 1 2 1 1 0 1 1 1 0 2 1 1 0 1 2 1 1 1 0 1 1\n",
      " 1 1 1 1 0 1 0 1 2 1 1 0 1 1 2 2 2 1 1 0 0 1 0 1 1 1 2 2 0 1 0 0 0 2 1 0 0\n",
      " 0 1 1 1 1 1 1 1 0 1 1 1 2 1 0 0 0 2 1 1 1 1 2 2 1 0 0 1 2 1 1 2 1 1 0 0 0\n",
      " 1 1 0 1 1 1 1 0 1 1 1 2 1 0 1 0 1 1 1 0 0 1 1 1 1 1 1 1 1 1 1 1 1 0 0 0 0\n",
      " 1 1 1 1 0 0 0 0 0 1 2 0 1 1 1 0 0 0 0 0 1 0 1 1 1 0 0 1 1 1 1 1 1 1 2 1 0\n",
      " 1 1 1 1 2 0 1 1 1 1 1 1 1 1 1 1 0 0 0 0 1 1 0 0 1 1 1 1 1 0 1 1 1 1 0 1 1\n",
      " 2 1 1 1 0 2 1 1 1 1 1 0 1 1 1 1 1 1 1 0 1 0 1 1 1 0 0 1 1 1 0 1 0 1 1 2 1\n",
      " 2 2 1 1 1 1 0 0 1 1 1 1 1 2 1 1 1 1 1 1 2 1 1 1 0 0 1 1 1 0 1 1 1 0 1 1 1\n",
      " 0 1 0 1 1 0 1 0 0 2 1 0 0 0 1 0 0 1 0 2 0 1 1 1 1 2 1 0 2 0 0 1 1 1 1 1 0\n",
      " 1 1 1 0 0 0 0 1 1 2 1 2 0 2 2 1 0 1 1 0 1 1 1 1 0 0 2 0 1 0 0 0 1 0 1 0 1\n",
      " 1 1 1 1 0 1 1 0 1 1 2 0 2 0 1 1 1 1 1 1 0 1 1 1 1 1 1 1 1 0 0 1 0 1 1 1 0\n",
      " 1 1 1 1 1 1 0 1 1 2 1 0 1 1 0 1 1 0 1 1 0 1 1 1 1 1 2 1 1 1 0 0 0 0 1 1 1\n",
      " 0 1 1 1 1 1 1 1 0 1 1 0 0 0 1 1 1 1 0 1 1 1 1 2 0 1 0 1 0 1 2 0 1 2 1 1 1\n",
      " 1]\n"
     ]
    },
    {
     "data": {
      "text/plain": [
       "array([[ 2.59311917e+03, -7.72578282e+01, -1.19674568e+00],\n",
       "       [-3.11240278e+03,  2.92879351e+01,  3.91397815e-01],\n",
       "       [ 1.23216164e+04,  4.63973241e+01,  1.12464384e+00]])"
      ]
     },
     "execution_count": 65,
     "metadata": {},
     "output_type": "execute_result"
    }
   ],
   "source": [
    "kmeans3= KMeans(n_clusters=3)\n",
    "y_kmeans3 = kmeans3.fit_predict(nparray)\n",
    "print(y_kmeans3)\n",
    "\n",
    "kmeans3.cluster_centers_"
   ]
  },
  {
   "cell_type": "code",
   "execution_count": 66,
   "metadata": {},
   "outputs": [
    {
     "name": "stdout",
     "output_type": "stream",
     "text": [
      "Centro del centroide No 1 es: \n",
      " [ 2.59311917e+03 -7.72578282e+01 -1.19674568e+00] \n",
      "\n",
      "Centro del centroide No 2 es: \n",
      " [-3.11240278e+03  2.92879351e+01  3.91397815e-01] \n",
      "\n",
      "Centro del centroide No 3 es: \n",
      " [1.23216164e+04 4.63973241e+01 1.12464384e+00] \n",
      "\n"
     ]
    }
   ],
   "source": [
    "for i, item in enumerate(kmeans3.cluster_centers_):\n",
    "    print(\"Centro del centroide No {} es: \\n {} \\n\".format(i+1, item))"
   ]
  },
  {
   "cell_type": "code",
   "execution_count": 67,
   "metadata": {},
   "outputs": [
    {
     "data": {
      "text/plain": [
       "<matplotlib.collections.PathCollection at 0x7fcf34784f60>"
      ]
     },
     "execution_count": 67,
     "metadata": {},
     "output_type": "execute_result"
    },
    {
     "data": {
      "image/png": "[encoded data removed]",
      "text/plain": [
       "<Figure size 432x288 with 1 Axes>"
      ]
     },
     "metadata": {},
     "output_type": "display_data"
    }
   ],
   "source": [
    "plt.scatter(nparray[:,0],nparray[:,1],c=y_kmeans3,cmap='rainbow') "
   ]
  },
  {
   "cell_type": "code",
   "execution_count": 68,
   "metadata": {},
   "outputs": [
    {
     "data": {
      "text/plain": [
       "<mpl_toolkits.mplot3d.art3d.Path3DCollection at 0x7fcf3470ef98>"
      ]
     },
     "execution_count": 68,
     "metadata": {},
     "output_type": "execute_result"
    },
    {
     "data": {
      "image/png": "[encoded data removed]",
      "text/plain": [
       "<Figure size 432x288 with 1 Axes>"
      ]
     },
     "metadata": {},
     "output_type": "display_data"
    }
   ],
   "source": [
    "from mpl_toolkits.mplot3d import Axes3D \n",
    "fig = plt.figure()\n",
    "ax = fig.add_subplot(111, projection='3d')\n",
    "ax.scatter(nparray[:,0],nparray[:,1], nparray[:,2], marker='+', c=y_kmeans3, cmap='rainbow')"
   ]
  },
  {
   "cell_type": "code",
   "execution_count": 69,
   "metadata": {},
   "outputs": [
    {
     "name": "stdout",
     "output_type": "stream",
     "text": [
      "365\n",
      "56\n",
      "0\n",
      "0\n"
     ]
    }
   ],
   "source": [
    "cluster_map = pd.DataFrame()\n",
    "cluster_map['data_index'] = data.index.values\n",
    "cluster_map['cluster'] = kmeans3.labels_\n",
    "cluster1 = cluster_map[cluster_map.cluster == 1]\n",
    "cluster2 = cluster_map[cluster_map.cluster == 2]\n",
    "cluster3 = cluster_map[cluster_map.cluster == 3]\n",
    "#cluster4 = cluster_map[cluster_map.cluster == 4]\n",
    "print(len(cluster1))\n",
    "print(len(cluster2))\n",
    "print(len(cluster3))\n",
    "print(len(cluster4))"
   ]
  },
  {
   "cell_type": "code",
   "execution_count": null,
   "metadata": {},
   "outputs": [],
   "source": []
  }
 ],
 "metadata": {
  "kernelspec": {
   "display_name": "Python 3",
   "language": "python",
   "name": "python3"
  },
  "language_info": {
   "codemirror_mode": {
    "name": "ipython",
    "version": 3
   },
   "file_extension": ".py",
   "mimetype": "text/x-python",
   "name": "python",
   "nbconvert_exporter": "python",
   "pygments_lexer": "ipython3",
   "version": "3.6.8"
  }
 },
 "nbformat": 4,
 "nbformat_minor": 2
}
